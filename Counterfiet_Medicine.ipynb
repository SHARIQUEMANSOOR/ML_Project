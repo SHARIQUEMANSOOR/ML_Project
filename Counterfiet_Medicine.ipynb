{
 "cells": [
  {
   "cell_type": "code",
   "execution_count": 1,
   "metadata": {},
   "outputs": [],
   "source": [
    "import pandas as pd \n",
    "import numpy as np"
   ]
  },
  {
   "cell_type": "code",
   "execution_count": 2,
   "metadata": {},
   "outputs": [],
   "source": [
    "train_file=r'F:\\data\\Data_python\\counterfeit_train.csv'\n",
    "test_file=r'F:\\data\\Data_python\\counterfeit_test.csv'\n",
    "\n",
    "train=pd.read_csv(train_file)\n",
    "test=pd.read_csv(test_file)               "
   ]
  },
  {
   "cell_type": "code",
   "execution_count": 3,
   "metadata": {},
   "outputs": [],
   "source": [
    "# lets combine the data for data prep\n",
    "\n",
    "test['Counterfeit_Sales']=np.nan\n",
    "train['data']='train'\n",
    "test['data']='test'\n",
    "test=test[train.columns]\n",
    "all=pd.concat([train,test],axis=0)"
   ]
  },
  {
   "cell_type": "code",
   "execution_count": 4,
   "metadata": {},
   "outputs": [],
   "source": [
    "all.reset_index(drop=True,inplace=True)"
   ]
  },
  {
   "cell_type": "code",
   "execution_count": 5,
   "metadata": {},
   "outputs": [],
   "source": [
    "del all['Medicine_ID']"
   ]
  },
  {
   "cell_type": "code",
   "execution_count": 6,
   "metadata": {
    "collapsed": true
   },
   "outputs": [
    {
     "data": {
      "text/plain": [
       "NaN        1463\n",
       " 13.450      86\n",
       " 18.900      82\n",
       " 14.950      77\n",
       " 13.100      76\n",
       " 16.400      68\n",
       " 10.600      68\n",
       " 11.800      66\n",
       " 18.000      66\n",
       " 20.650      63\n",
       " 22.000      62\n",
       " 17.300      62\n",
       " 11.100      61\n",
       " 19.000      60\n",
       " 19.050      60\n",
       " 17.150      59\n",
       " 16.300      59\n",
       " 20.150      59\n",
       " 18.050      58\n",
       " 19.550      58\n",
       " 20.900      58\n",
       " 17.000      57\n",
       " 13.800      56\n",
       " 10.495      56\n",
       " 13.400      53\n",
       " 11.495      53\n",
       " 13.900      53\n",
       " 21.500      53\n",
       " 16.900      52\n",
       " 12.800      51\n",
       "           ... \n",
       " 8.560        3\n",
       " 7.760        3\n",
       " 6.300        3\n",
       " 8.205        3\n",
       " 7.145        3\n",
       " 9.575        3\n",
       " 6.605        3\n",
       " 8.860        2\n",
       " 8.575        2\n",
       " 6.205        2\n",
       " 9.970        2\n",
       " 8.195        2\n",
       " 7.705        2\n",
       " 8.905        2\n",
       " 7.035        2\n",
       " 9.785        2\n",
       " 6.455        2\n",
       " 7.185        2\n",
       " 7.700        2\n",
       " 10.220       2\n",
       " 8.075        2\n",
       " 6.975        2\n",
       " 6.510        2\n",
       " 10.100       2\n",
       " 7.625        2\n",
       " 9.190        2\n",
       " 7.820        1\n",
       " 6.700        1\n",
       " 8.985        1\n",
       " 10.720       1\n",
       "Name: Counterfeit_Weight, Length: 416, dtype: int64"
      ]
     },
     "execution_count": 6,
     "metadata": {},
     "output_type": "execute_result"
    }
   ],
   "source": [
    "all['Counterfeit_Weight'].value_counts(dropna=False)"
   ]
  },
  {
   "cell_type": "code",
   "execution_count": 7,
   "metadata": {},
   "outputs": [],
   "source": [
    "all.loc[all['Counterfeit_Weight'].isnull(),'Counterfeit_Weight']=np.mean(all['Counterfeit_Weight'])"
   ]
  },
  {
   "cell_type": "code",
   "execution_count": 8,
   "metadata": {},
   "outputs": [
    {
     "data": {
      "text/plain": [
       "Index(['Counterfeit_Weight', 'DistArea_ID', 'Active_Since', 'Medicine_MRP',\n",
       "       'Medicine_Type', 'SidEffect_Level', 'Availability_rating', 'Area_Type',\n",
       "       'Area_City_Type', 'Area_dist_level', 'Counterfeit_Sales', 'data'],\n",
       "      dtype='object')"
      ]
     },
     "execution_count": 8,
     "metadata": {},
     "output_type": "execute_result"
    }
   ],
   "source": [
    "all.columns"
   ]
  },
  {
   "cell_type": "code",
   "execution_count": 34,
   "metadata": {},
   "outputs": [
    {
     "data": {
      "text/html": [
       "<div>\n",
       "<style scoped>\n",
       "    .dataframe tbody tr th:only-of-type {\n",
       "        vertical-align: middle;\n",
       "    }\n",
       "\n",
       "    .dataframe tbody tr th {\n",
       "        vertical-align: top;\n",
       "    }\n",
       "\n",
       "    .dataframe thead th {\n",
       "        text-align: right;\n",
       "    }\n",
       "</style>\n",
       "<table border=\"1\" class=\"dataframe\">\n",
       "  <thead>\n",
       "    <tr style=\"text-align: right;\">\n",
       "      <th>Area_dist_level</th>\n",
       "      <th>High</th>\n",
       "      <th>Medium</th>\n",
       "      <th>Small</th>\n",
       "      <th>Unknown</th>\n",
       "    </tr>\n",
       "    <tr>\n",
       "      <th>Area_Type</th>\n",
       "      <th></th>\n",
       "      <th></th>\n",
       "      <th></th>\n",
       "      <th></th>\n",
       "    </tr>\n",
       "  </thead>\n",
       "  <tbody>\n",
       "    <tr>\n",
       "      <th>CityLimits</th>\n",
       "      <td>0</td>\n",
       "      <td>935</td>\n",
       "      <td>0</td>\n",
       "      <td>0</td>\n",
       "    </tr>\n",
       "    <tr>\n",
       "      <th>DownTown</th>\n",
       "      <td>932</td>\n",
       "      <td>930</td>\n",
       "      <td>1860</td>\n",
       "      <td>1855</td>\n",
       "    </tr>\n",
       "    <tr>\n",
       "      <th>Industrial</th>\n",
       "      <td>0</td>\n",
       "      <td>928</td>\n",
       "      <td>0</td>\n",
       "      <td>0</td>\n",
       "    </tr>\n",
       "    <tr>\n",
       "      <th>MidTownResidential</th>\n",
       "      <td>0</td>\n",
       "      <td>0</td>\n",
       "      <td>528</td>\n",
       "      <td>555</td>\n",
       "    </tr>\n",
       "  </tbody>\n",
       "</table>\n",
       "</div>"
      ],
      "text/plain": [
       "Area_dist_level     High  Medium  Small  Unknown\n",
       "Area_Type                                       \n",
       "CityLimits             0     935      0        0\n",
       "DownTown             932     930   1860     1855\n",
       "Industrial             0     928      0        0\n",
       "MidTownResidential     0       0    528      555"
      ]
     },
     "execution_count": 34,
     "metadata": {},
     "output_type": "execute_result"
    }
   ],
   "source": [
    "pd.crosstab(all['Area_Type'],all['Area_dist_level'])"
   ]
  },
  {
   "cell_type": "code",
   "execution_count": 33,
   "metadata": {},
   "outputs": [
    {
     "name": "stdout",
     "output_type": "stream",
     "text": [
      "10\n",
      "4\n",
      "3\n",
      "4\n"
     ]
    }
   ],
   "source": [
    "cola=['DistArea_ID','Area_Type','Area_City_Type','Area_dist_level']\n",
    "for col in cola:\n",
    "    print(all[col].nunique())"
   ]
  },
  {
   "cell_type": "code",
   "execution_count": 74,
   "metadata": {},
   "outputs": [
    {
     "data": {
      "text/plain": [
       "mild        5517\n",
       "critical    3006\n",
       "Name: SidEffect_Level, dtype: int64"
      ]
     },
     "execution_count": 74,
     "metadata": {},
     "output_type": "execute_result"
    }
   ],
   "source": [
    "all['SidEffect_Level'].value_counts(dropna=False)"
   ]
  },
  {
   "cell_type": "code",
   "execution_count": 75,
   "metadata": {},
   "outputs": [
    {
     "data": {
      "text/plain": [
       "Antibiotics           1232\n",
       "Hreplacements         1200\n",
       "Antiseptics            910\n",
       "OralContraceptives     856\n",
       "Antipyretics           682\n",
       "Cardiac                649\n",
       "Mstablizers            648\n",
       "Tranquilizers          520\n",
       "Analgesics             445\n",
       "Antimalarial           425\n",
       "Antacids               251\n",
       "Statins                214\n",
       "MuscleRelaxants        169\n",
       "Antifungal             148\n",
       "Stimulants             110\n",
       "Antiviral               64\n",
       "Name: Medicine_Type, dtype: int64"
      ]
     },
     "execution_count": 75,
     "metadata": {},
     "output_type": "execute_result"
    }
   ],
   "source": [
    "all['Medicine_Type'].value_counts(dropna=False)"
   ]
  },
  {
   "cell_type": "code",
   "execution_count": 35,
   "metadata": {},
   "outputs": [],
   "source": [
    "\n",
    "freqs=all['Medicine_Type'].value_counts()\n",
    "k=freqs.index[freqs>300]\n",
    "for cat in k:\n",
    "    \n",
    "    name='Medicine_Type_'+cat\n",
    "    all[name]=(all['Medicine_Type']==cat).astype(int)\n",
    "del all['Medicine_Type']\n",
    "    \n",
    "    "
   ]
  },
  {
   "cell_type": "code",
   "execution_count": 36,
   "metadata": {},
   "outputs": [
    {
     "data": {
      "text/html": [
       "<div>\n",
       "<style scoped>\n",
       "    .dataframe tbody tr th:only-of-type {\n",
       "        vertical-align: middle;\n",
       "    }\n",
       "\n",
       "    .dataframe tbody tr th {\n",
       "        vertical-align: top;\n",
       "    }\n",
       "\n",
       "    .dataframe thead th {\n",
       "        text-align: right;\n",
       "    }\n",
       "</style>\n",
       "<table border=\"1\" class=\"dataframe\">\n",
       "  <thead>\n",
       "    <tr style=\"text-align: right;\">\n",
       "      <th></th>\n",
       "      <th>Counterfeit_Weight</th>\n",
       "      <th>DistArea_ID</th>\n",
       "      <th>Active_Since</th>\n",
       "      <th>Medicine_MRP</th>\n",
       "      <th>SidEffect_Level</th>\n",
       "      <th>Availability_rating</th>\n",
       "      <th>Area_Type</th>\n",
       "      <th>Area_City_Type</th>\n",
       "      <th>Area_dist_level</th>\n",
       "      <th>Counterfeit_Sales</th>\n",
       "      <th>...</th>\n",
       "      <th>Medicine_Type_Antibiotics</th>\n",
       "      <th>Medicine_Type_Hreplacements</th>\n",
       "      <th>Medicine_Type_Antiseptics</th>\n",
       "      <th>Medicine_Type_OralContraceptives</th>\n",
       "      <th>Medicine_Type_Antipyretics</th>\n",
       "      <th>Medicine_Type_Cardiac</th>\n",
       "      <th>Medicine_Type_Mstablizers</th>\n",
       "      <th>Medicine_Type_Tranquilizers</th>\n",
       "      <th>Medicine_Type_Analgesics</th>\n",
       "      <th>Medicine_Type_Antimalarial</th>\n",
       "    </tr>\n",
       "  </thead>\n",
       "  <tbody>\n",
       "    <tr>\n",
       "      <th>0</th>\n",
       "      <td>13.100000</td>\n",
       "      <td>Area046</td>\n",
       "      <td>1995</td>\n",
       "      <td>160.2366</td>\n",
       "      <td>critical</td>\n",
       "      <td>0.070422</td>\n",
       "      <td>DownTown</td>\n",
       "      <td>Tier 1</td>\n",
       "      <td>Small</td>\n",
       "      <td>1775.5026</td>\n",
       "      <td>...</td>\n",
       "      <td>0</td>\n",
       "      <td>0</td>\n",
       "      <td>0</td>\n",
       "      <td>0</td>\n",
       "      <td>0</td>\n",
       "      <td>0</td>\n",
       "      <td>0</td>\n",
       "      <td>0</td>\n",
       "      <td>0</td>\n",
       "      <td>1</td>\n",
       "    </tr>\n",
       "    <tr>\n",
       "      <th>1</th>\n",
       "      <td>14.157645</td>\n",
       "      <td>Area027</td>\n",
       "      <td>1983</td>\n",
       "      <td>110.4384</td>\n",
       "      <td>mild</td>\n",
       "      <td>0.013000</td>\n",
       "      <td>CityLimits</td>\n",
       "      <td>Tier 3</td>\n",
       "      <td>Medium</td>\n",
       "      <td>3069.1520</td>\n",
       "      <td>...</td>\n",
       "      <td>0</td>\n",
       "      <td>0</td>\n",
       "      <td>0</td>\n",
       "      <td>0</td>\n",
       "      <td>0</td>\n",
       "      <td>0</td>\n",
       "      <td>1</td>\n",
       "      <td>0</td>\n",
       "      <td>0</td>\n",
       "      <td>0</td>\n",
       "    </tr>\n",
       "    <tr>\n",
       "      <th>2</th>\n",
       "      <td>9.025000</td>\n",
       "      <td>Area046</td>\n",
       "      <td>1995</td>\n",
       "      <td>259.4092</td>\n",
       "      <td>mild</td>\n",
       "      <td>0.060783</td>\n",
       "      <td>DownTown</td>\n",
       "      <td>Tier 1</td>\n",
       "      <td>Small</td>\n",
       "      <td>2603.0920</td>\n",
       "      <td>...</td>\n",
       "      <td>0</td>\n",
       "      <td>0</td>\n",
       "      <td>0</td>\n",
       "      <td>0</td>\n",
       "      <td>0</td>\n",
       "      <td>1</td>\n",
       "      <td>0</td>\n",
       "      <td>0</td>\n",
       "      <td>0</td>\n",
       "      <td>0</td>\n",
       "    </tr>\n",
       "    <tr>\n",
       "      <th>3</th>\n",
       "      <td>11.800000</td>\n",
       "      <td>Area046</td>\n",
       "      <td>1995</td>\n",
       "      <td>99.9830</td>\n",
       "      <td>mild</td>\n",
       "      <td>0.065555</td>\n",
       "      <td>DownTown</td>\n",
       "      <td>Tier 1</td>\n",
       "      <td>Small</td>\n",
       "      <td>1101.7130</td>\n",
       "      <td>...</td>\n",
       "      <td>0</td>\n",
       "      <td>0</td>\n",
       "      <td>0</td>\n",
       "      <td>1</td>\n",
       "      <td>0</td>\n",
       "      <td>0</td>\n",
       "      <td>0</td>\n",
       "      <td>0</td>\n",
       "      <td>0</td>\n",
       "      <td>0</td>\n",
       "    </tr>\n",
       "    <tr>\n",
       "      <th>4</th>\n",
       "      <td>14.157645</td>\n",
       "      <td>Area019</td>\n",
       "      <td>1983</td>\n",
       "      <td>56.4402</td>\n",
       "      <td>critical</td>\n",
       "      <td>0.248859</td>\n",
       "      <td>MidTownResidential</td>\n",
       "      <td>Tier 1</td>\n",
       "      <td>Small</td>\n",
       "      <td>158.9402</td>\n",
       "      <td>...</td>\n",
       "      <td>0</td>\n",
       "      <td>1</td>\n",
       "      <td>0</td>\n",
       "      <td>0</td>\n",
       "      <td>0</td>\n",
       "      <td>0</td>\n",
       "      <td>0</td>\n",
       "      <td>0</td>\n",
       "      <td>0</td>\n",
       "      <td>0</td>\n",
       "    </tr>\n",
       "  </tbody>\n",
       "</table>\n",
       "<p>5 rows × 21 columns</p>\n",
       "</div>"
      ],
      "text/plain": [
       "   Counterfeit_Weight DistArea_ID  Active_Since  Medicine_MRP SidEffect_Level  \\\n",
       "0           13.100000     Area046          1995      160.2366        critical   \n",
       "1           14.157645     Area027          1983      110.4384            mild   \n",
       "2            9.025000     Area046          1995      259.4092            mild   \n",
       "3           11.800000     Area046          1995       99.9830            mild   \n",
       "4           14.157645     Area019          1983       56.4402        critical   \n",
       "\n",
       "   Availability_rating           Area_Type Area_City_Type Area_dist_level  \\\n",
       "0             0.070422            DownTown         Tier 1           Small   \n",
       "1             0.013000          CityLimits         Tier 3          Medium   \n",
       "2             0.060783            DownTown         Tier 1           Small   \n",
       "3             0.065555            DownTown         Tier 1           Small   \n",
       "4             0.248859  MidTownResidential         Tier 1           Small   \n",
       "\n",
       "   Counterfeit_Sales             ...             Medicine_Type_Antibiotics  \\\n",
       "0          1775.5026             ...                                     0   \n",
       "1          3069.1520             ...                                     0   \n",
       "2          2603.0920             ...                                     0   \n",
       "3          1101.7130             ...                                     0   \n",
       "4           158.9402             ...                                     0   \n",
       "\n",
       "   Medicine_Type_Hreplacements  Medicine_Type_Antiseptics  \\\n",
       "0                            0                          0   \n",
       "1                            0                          0   \n",
       "2                            0                          0   \n",
       "3                            0                          0   \n",
       "4                            1                          0   \n",
       "\n",
       "   Medicine_Type_OralContraceptives  Medicine_Type_Antipyretics  \\\n",
       "0                                 0                           0   \n",
       "1                                 0                           0   \n",
       "2                                 0                           0   \n",
       "3                                 1                           0   \n",
       "4                                 0                           0   \n",
       "\n",
       "   Medicine_Type_Cardiac  Medicine_Type_Mstablizers  \\\n",
       "0                      0                          0   \n",
       "1                      0                          1   \n",
       "2                      1                          0   \n",
       "3                      0                          0   \n",
       "4                      0                          0   \n",
       "\n",
       "   Medicine_Type_Tranquilizers  Medicine_Type_Analgesics  \\\n",
       "0                            0                         0   \n",
       "1                            0                         0   \n",
       "2                            0                         0   \n",
       "3                            0                         0   \n",
       "4                            0                         0   \n",
       "\n",
       "   Medicine_Type_Antimalarial  \n",
       "0                           1  \n",
       "1                           0  \n",
       "2                           0  \n",
       "3                           0  \n",
       "4                           0  \n",
       "\n",
       "[5 rows x 21 columns]"
      ]
     },
     "execution_count": 36,
     "metadata": {},
     "output_type": "execute_result"
    }
   ],
   "source": [
    "all.head()"
   ]
  },
  {
   "cell_type": "code",
   "execution_count": 37,
   "metadata": {},
   "outputs": [
    {
     "data": {
      "text/plain": [
       "Index(['Counterfeit_Weight', 'DistArea_ID', 'Active_Since', 'Medicine_MRP',\n",
       "       'SidEffect_Level', 'Availability_rating', 'Area_Type', 'Area_City_Type',\n",
       "       'Area_dist_level', 'Counterfeit_Sales', 'data',\n",
       "       'Medicine_Type_Antibiotics', 'Medicine_Type_Hreplacements',\n",
       "       'Medicine_Type_Antiseptics', 'Medicine_Type_OralContraceptives',\n",
       "       'Medicine_Type_Antipyretics', 'Medicine_Type_Cardiac',\n",
       "       'Medicine_Type_Mstablizers', 'Medicine_Type_Tranquilizers',\n",
       "       'Medicine_Type_Analgesics', 'Medicine_Type_Antimalarial'],\n",
       "      dtype='object')"
      ]
     },
     "execution_count": 37,
     "metadata": {},
     "output_type": "execute_result"
    }
   ],
   "source": [
    "all.columns"
   ]
  },
  {
   "cell_type": "code",
   "execution_count": 78,
   "metadata": {},
   "outputs": [
    {
     "data": {
      "text/plain": [
       "DownTown              5577\n",
       "MidTownResidential    1083\n",
       "CityLimits             935\n",
       "Industrial             928\n",
       "Name: Area_Type, dtype: int64"
      ]
     },
     "execution_count": 78,
     "metadata": {},
     "output_type": "execute_result"
    }
   ],
   "source": [
    "all['Area_Type'].value_counts(dropna=False)"
   ]
  },
  {
   "cell_type": "code",
   "execution_count": 79,
   "metadata": {},
   "outputs": [
    {
     "data": {
      "text/plain": [
       "Medium     2793\n",
       "Unknown    2410\n",
       "Small      2388\n",
       "High        932\n",
       "Name: Area_dist_level, dtype: int64"
      ]
     },
     "execution_count": 79,
     "metadata": {},
     "output_type": "execute_result"
    }
   ],
   "source": [
    "all['Area_dist_level'].value_counts(dropna=False)"
   ]
  },
  {
   "cell_type": "code",
   "execution_count": 38,
   "metadata": {},
   "outputs": [],
   "source": [
    "mapper_SidEffect_Level={'mild':1,'critical':2}\n",
    "\n",
    "mapper_Area_dist_level={'Small':1,'Medium':2,'High':3,'Unknown':4}"
   ]
  },
  {
   "cell_type": "code",
   "execution_count": 39,
   "metadata": {},
   "outputs": [],
   "source": [
    "for col,mapper in zip(['SidEffect_Level','Area_dist_level'],[mapper_SidEffect_Level, mapper_Area_dist_level   ]):\n",
    "    all[col+'oe']=all[col].replace(mapper)\n",
    "    all.drop(col,axis=1,inplace=True)"
   ]
  },
  {
   "cell_type": "code",
   "execution_count": 40,
   "metadata": {},
   "outputs": [
    {
     "data": {
      "text/plain": [
       "Index(['DistArea_ID', 'Area_Type', 'Area_City_Type', 'data'], dtype='object')"
      ]
     },
     "execution_count": 40,
     "metadata": {},
     "output_type": "execute_result"
    }
   ],
   "source": [
    "all.select_dtypes('object').columns"
   ]
  },
  {
   "cell_type": "code",
   "execution_count": 42,
   "metadata": {},
   "outputs": [
    {
     "data": {
      "text/plain": [
       "DownTown              5577\n",
       "MidTownResidential    1083\n",
       "CityLimits             935\n",
       "Industrial             928\n",
       "Name: Area_Type, dtype: int64"
      ]
     },
     "execution_count": 42,
     "metadata": {},
     "output_type": "execute_result"
    }
   ],
   "source": [
    "all['Area_Type'].value_counts(dropna=False)"
   ]
  },
  {
   "cell_type": "code",
   "execution_count": 43,
   "metadata": {},
   "outputs": [],
   "source": [
    "cat_col=all.select_dtypes('object').columns\n",
    "cat_col=['DistArea_ID', 'Area_City_Type','Area_Type']\n"
   ]
  },
  {
   "cell_type": "code",
   "execution_count": 44,
   "metadata": {},
   "outputs": [
    {
     "name": "stdout",
     "output_type": "stream",
     "text": [
      "DistArea_ID\n",
      "Area_City_Type\n",
      "Area_Type\n"
     ]
    }
   ],
   "source": [
    "for col in cat_col:\n",
    "    dummy=pd.get_dummies(all[col],drop_first=True,prefix=col)\n",
    "    all=pd.concat([all,dummy],axis=1)\n",
    "    del all[col]\n",
    "    print(col)"
   ]
  },
  {
   "cell_type": "code",
   "execution_count": 45,
   "metadata": {},
   "outputs": [
    {
     "data": {
      "text/plain": [
       "Counterfeit_Weight                     0\n",
       "Active_Since                           0\n",
       "Medicine_MRP                           0\n",
       "Availability_rating                    0\n",
       "Counterfeit_Sales                   1705\n",
       "data                                   0\n",
       "Medicine_Type_Antibiotics              0\n",
       "Medicine_Type_Hreplacements            0\n",
       "Medicine_Type_Antiseptics              0\n",
       "Medicine_Type_OralContraceptives       0\n",
       "Medicine_Type_Antipyretics             0\n",
       "Medicine_Type_Cardiac                  0\n",
       "Medicine_Type_Mstablizers              0\n",
       "Medicine_Type_Tranquilizers            0\n",
       "Medicine_Type_Analgesics               0\n",
       "Medicine_Type_Antimalarial             0\n",
       "SidEffect_Leveloe                      0\n",
       "Area_dist_leveloe                      0\n",
       "DistArea_ID_Area013                    0\n",
       "DistArea_ID_Area017                    0\n",
       "DistArea_ID_Area018                    0\n",
       "DistArea_ID_Area019                    0\n",
       "DistArea_ID_Area027                    0\n",
       "DistArea_ID_Area035                    0\n",
       "DistArea_ID_Area045                    0\n",
       "DistArea_ID_Area046                    0\n",
       "DistArea_ID_Area049                    0\n",
       "Area_City_Type_Tier 2                  0\n",
       "Area_City_Type_Tier 3                  0\n",
       "Area_Type_DownTown                     0\n",
       "Area_Type_Industrial                   0\n",
       "Area_Type_MidTownResidential           0\n",
       "dtype: int64"
      ]
     },
     "execution_count": 45,
     "metadata": {},
     "output_type": "execute_result"
    }
   ],
   "source": [
    "all.isnull().sum()"
   ]
  },
  {
   "cell_type": "code",
   "execution_count": 46,
   "metadata": {},
   "outputs": [
    {
     "data": {
      "text/plain": [
       "Index(['data'], dtype='object')"
      ]
     },
     "execution_count": 46,
     "metadata": {},
     "output_type": "execute_result"
    }
   ],
   "source": [
    "all.select_dtypes('object').columns"
   ]
  },
  {
   "cell_type": "code",
   "execution_count": 47,
   "metadata": {},
   "outputs": [
    {
     "name": "stderr",
     "output_type": "stream",
     "text": [
      "C:\\Users\\Win8.1\\Anaconda3\\lib\\site-packages\\ipykernel_launcher.py:4: SettingWithCopyWarning: \n",
      "A value is trying to be set on a copy of a slice from a DataFrame\n",
      "\n",
      "See the caveats in the documentation: http://pandas.pydata.org/pandas-docs/stable/indexing.html#indexing-view-versus-copy\n",
      "  after removing the cwd from sys.path.\n"
     ]
    }
   ],
   "source": [
    "ld_train=all[all['data']=='train']\n",
    "del ld_train['data']\n",
    "ld_test=all[all['data']=='test']\n",
    "ld_test.drop(['Counterfeit_Sales','data'],axis=1,inplace=True)\n"
   ]
  },
  {
   "cell_type": "code",
   "execution_count": 48,
   "metadata": {},
   "outputs": [],
   "source": [
    "ld_train.reset_index(drop=True,inplace=True)\n",
    "ld_test.reset_index(drop=True,inplace=True)"
   ]
  },
  {
   "cell_type": "code",
   "execution_count": 49,
   "metadata": {},
   "outputs": [],
   "source": [
    "# Notice that only train data is used for imputing missing values in both train and test \n",
    "\n",
    "x_train=ld_train.drop('Counterfeit_Sales',axis=1)\n",
    "y_train=ld_train['Counterfeit_Sales']\n",
    "\n"
   ]
  },
  {
   "cell_type": "code",
   "execution_count": 50,
   "metadata": {},
   "outputs": [
    {
     "data": {
      "text/plain": [
       "(6818, 31)"
      ]
     },
     "execution_count": 50,
     "metadata": {},
     "output_type": "execute_result"
    }
   ],
   "source": [
    "ld_train.shape"
   ]
  },
  {
   "cell_type": "code",
   "execution_count": 51,
   "metadata": {},
   "outputs": [],
   "source": [
    "from sklearn.model_selection import RandomizedSearchCV,train_test_split,GridSearchCV\n",
    "from sklearn.tree import DecisionTreeRegressor\n",
    "from sklearn.ensemble import AdaBoostRegressor\n",
    "from xgboost.sklearn import XGBRegressor"
   ]
  },
  {
   "cell_type": "code",
   "execution_count": 52,
   "metadata": {},
   "outputs": [],
   "source": [
    "def report(results, n_top=3):\n",
    "    for i in range(1, n_top + 1):\n",
    "        candidates = np.flatnonzero(results['rank_test_score'] == i)\n",
    "        for candidate in candidates:\n",
    "            print(\"Model with rank: {0}\".format(i))\n",
    "            print(\"Mean validation score: {0:.3f} (std: {1:.5f})\".format(\n",
    "                  results['mean_test_score'][candidate],\n",
    "                  results['std_test_score'][candidate]))\n",
    "            print(\"Parameters: {0}\".format(results['params'][candidate]))\n",
    "            print(\"\")"
   ]
  },
  {
   "cell_type": "code",
   "execution_count": 59,
   "metadata": {},
   "outputs": [
    {
     "name": "stdout",
     "output_type": "stream",
     "text": [
      "[22:50:32] WARNING: C:/Jenkins/workspace/xgboost-win64_release_0.90/src/objective/regression_obj.cu:152: reg:linear is now deprecated in favor of reg:squarederror.\n",
      "Model with rank: 1\n",
      "Mean validation score: -749.792 (std: 24.08097)\n",
      "Parameters: {'n_estimators': 40}\n",
      "\n",
      "Model with rank: 2\n",
      "Mean validation score: -751.506 (std: 23.12901)\n",
      "Parameters: {'n_estimators': 35}\n",
      "\n",
      "Model with rank: 3\n",
      "Mean validation score: -752.656 (std: 25.11416)\n",
      "Parameters: {'n_estimators': 80}\n",
      "\n"
     ]
    }
   ],
   "source": [
    "\n",
    "xgb_params = { \"n_estimators\":[30,35,40,80] }\n",
    "xgb1=XGBRegressor(subsample=0.8,colsample_bylevel=0.8,colsample_bytree=0.8)\n",
    "grid_search=GridSearchCV(xgb1,cv=10,param_grid=xgb_params,scoring='neg_mean_absolute_error',verbose=False,n_jobs=-1)\n",
    "\n",
    "grid_search.fit(x_train,y_train)\n",
    "report(grid_search.cv_results_,3)"
   ]
  },
  {
   "cell_type": "code",
   "execution_count": 64,
   "metadata": {},
   "outputs": [
    {
     "name": "stdout",
     "output_type": "stream",
     "text": [
      "[23:13:40] WARNING: C:/Jenkins/workspace/xgboost-win64_release_0.90/src/objective/regression_obj.cu:152: reg:linear is now deprecated in favor of reg:squarederror.\n",
      "Model with rank: 1\n",
      "Mean validation score: -747.724 (std: 26.43634)\n",
      "Parameters: {'min_child_weight': 5, 'max_depth': 4, 'gamma': 0}\n",
      "\n",
      "Model with rank: 1\n",
      "Mean validation score: -747.724 (std: 26.43634)\n",
      "Parameters: {'min_child_weight': 5, 'max_depth': 4, 'gamma': 6}\n",
      "\n",
      "Model with rank: 1\n",
      "Mean validation score: -747.724 (std: 26.43634)\n",
      "Parameters: {'min_child_weight': 5, 'max_depth': 4, 'gamma': 8}\n",
      "\n"
     ]
    }
   ],
   "source": [
    "xgb_params={\n",
    " \"gamma\":[0,2,4,5,6,8],\n",
    " \"max_depth\": [2,3,4,5,6,7,8],\n",
    " \"min_child_weight\":[2,5,7,10]\n",
    " }\n",
    "xgb2=XGBRegressor(n_estimators=40,subsample=0.8,\n",
    " colsample_bylevel=0.8,colsample_bytree=0.8)\n",
    "random_search = RandomizedSearchCV( xgb2, param_distributions = xgb_params,\n",
    " n_iter = 50, cv= 10,\n",
    " scoring ='neg_mean_absolute_error',\n",
    " n_jobs =-1, verbose=False)\n",
    "random_search.fit(x_train,y_train)\n",
    "report(random_search.cv_results_,3)"
   ]
  },
  {
   "cell_type": "code",
   "execution_count": 65,
   "metadata": {},
   "outputs": [],
   "source": [
    "test_predict=random_search.predict(ld_test)"
   ]
  },
  {
   "cell_type": "code",
   "execution_count": 68,
   "metadata": {},
   "outputs": [],
   "source": [
    "pd.DataFrame(test_predict).to_csv(\"Sharique_Mansoor_Project3.csv\",index=False)\n"
   ]
  },
  {
   "cell_type": "code",
   "execution_count": 69,
   "metadata": {},
   "outputs": [
    {
     "data": {
      "text/plain": [
       "'C:\\\\Users\\\\Win8.1\\\\Downloads'"
      ]
     },
     "execution_count": 69,
     "metadata": {},
     "output_type": "execute_result"
    }
   ],
   "source": [
    "pwd"
   ]
  },
  {
   "cell_type": "code",
   "execution_count": 63,
   "metadata": {},
   "outputs": [
    {
     "name": "stdout",
     "output_type": "stream",
     "text": [
      "[23:07:20] WARNING: C:/Jenkins/workspace/xgboost-win64_release_0.90/src/objective/regression_obj.cu:152: reg:linear is now deprecated in favor of reg:squarederror.\n",
      "Model with rank: 1\n",
      "Mean validation score: -747.954 (std: 26.77355)\n",
      "Parameters: {'subsample': 0.9, 'colsample_bytree': 1.0, 'colsample_bylevel': 0.8}\n",
      "\n",
      "Model with rank: 2\n",
      "Mean validation score: -748.274 (std: 25.79425)\n",
      "Parameters: {'subsample': 0.6, 'colsample_bytree': 1.0, 'colsample_bylevel': 0.8}\n",
      "\n",
      "Model with rank: 3\n",
      "Mean validation score: -748.324 (std: 25.61066)\n",
      "Parameters: {'subsample': 0.5, 'colsample_bytree': 0.9, 'colsample_bylevel': 0.9}\n",
      "\n"
     ]
    }
   ],
   "source": [
    "xgb_params={\n",
    " 'subsample':[i/10 for i in range(5,11)],\n",
    " 'colsample_bytree':[i/10 for i in range(5,11)],\n",
    " 'colsample_bylevel':[i/10 for i in range(5,11)]\n",
    " }\n",
    "xgb3=XGBRegressor(learning_rate=0.1,n_estimators=40,\n",
    " min_child_weight=10,gamma=4,max_depth=4)\n",
    "random_search=RandomizedSearchCV(xgb3,param_distributions=xgb_params,cv=10,\n",
    " n_iter=20,scoring='neg_mean_absolute_error',\n",
    " n_jobs=-1,verbose=False)\n",
    "random_search.fit(x_train,y_train)\n",
    "report(random_search.cv_results_,3)"
   ]
  },
  {
   "cell_type": "code",
   "execution_count": null,
   "metadata": {},
   "outputs": [],
   "source": []
  }
 ],
 "metadata": {
  "kernelspec": {
   "display_name": "Python 3",
   "language": "python",
   "name": "python3"
  },
  "language_info": {
   "codemirror_mode": {
    "name": "ipython",
    "version": 3
   },
   "file_extension": ".py",
   "mimetype": "text/x-python",
   "name": "python",
   "nbconvert_exporter": "python",
   "pygments_lexer": "ipython3",
   "version": "3.6.4"
  }
 },
 "nbformat": 4,
 "nbformat_minor": 2
}
