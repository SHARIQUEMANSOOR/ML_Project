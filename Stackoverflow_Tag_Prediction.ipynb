{
  "nbformat": 4,
  "nbformat_minor": 0,
  "metadata": {
    "colab": {
      "name": "Stackoverflow_Tag_Prediction.ipynb",
      "provenance": []
    },
    "kernelspec": {
      "name": "python3",
      "display_name": "Python 3"
    }
  },
  "cells": [
    {
      "cell_type": "code",
      "metadata": {
        "id": "kod4DmIr-SGj",
        "colab_type": "code",
        "outputId": "3d0157c0-14cc-4964-867a-e5427df521ac",
        "colab": {
          "base_uri": "https://localhost:8080/",
          "height": 80
        }
      },
      "source": [
        "import tensorflow as tf\n",
        "tf.test.gpu_device_name()"
      ],
      "execution_count": 0,
      "outputs": [
        {
          "output_type": "display_data",
          "data": {
            "text/html": [
              "<p style=\"color: red;\">\n",
              "The default version of TensorFlow in Colab will soon switch to TensorFlow 2.x.<br>\n",
              "We recommend you <a href=\"https://www.tensorflow.org/guide/migrate\" target=\"_blank\">upgrade</a> now \n",
              "or ensure your notebook will continue to use TensorFlow 1.x via the <code>%tensorflow_version 1.x</code> magic:\n",
              "<a href=\"https://colab.research.google.com/notebooks/tensorflow_version.ipynb\" target=\"_blank\">more info</a>.</p>\n"
            ],
            "text/plain": [
              "<IPython.core.display.HTML object>"
            ]
          },
          "metadata": {
            "tags": []
          }
        },
        {
          "output_type": "execute_result",
          "data": {
            "text/plain": [
              "''"
            ]
          },
          "metadata": {
            "tags": []
          },
          "execution_count": 1
        }
      ]
    },
    {
      "cell_type": "code",
      "metadata": {
        "id": "Ue_ePgE3-ZDJ",
        "colab_type": "code",
        "colab": {}
      },
      "source": [
        "!pip install -U -q PyDrive"
      ],
      "execution_count": 0,
      "outputs": []
    },
    {
      "cell_type": "code",
      "metadata": {
        "id": "FIVo8pkm-bfR",
        "colab_type": "code",
        "colab": {}
      },
      "source": [
        "from pydrive.auth import GoogleAuth\n",
        "from pydrive.drive import GoogleDrive\n",
        "from google.colab import auth\n",
        "from oauth2client.client import GoogleCredentials\n"
      ],
      "execution_count": 0,
      "outputs": []
    },
    {
      "cell_type": "code",
      "metadata": {
        "id": "jtK28S7x-df-",
        "colab_type": "code",
        "colab": {}
      },
      "source": [
        "auth.authenticate_user()\n",
        "gauth = GoogleAuth()\n",
        "gauth.credentials = GoogleCredentials.get_application_default()\n",
        "drive = GoogleDrive(gauth)"
      ],
      "execution_count": 0,
      "outputs": []
    },
    {
      "cell_type": "code",
      "metadata": {
        "id": "cv4Ceyxq-flE",
        "colab_type": "code",
        "outputId": "14631c54-6742-421c-e412-4a7f855fa342",
        "colab": {
          "base_uri": "https://localhost:8080/",
          "height": 1000
        }
      },
      "source": [
        "file_list = drive.ListFile({'q': \"'root' in parents and trashed=false\"}).GetList()\n",
        "for file1 in file_list:\n",
        "  print('title: %s, id: %s' % (file1['title'], file1['id']))"
      ],
      "execution_count": 0,
      "outputs": [
        {
          "output_type": "stream",
          "text": [
            "title: Tags.csv, id: 1vLfS_gvGGSPF0WRaZiIkphKG9cfDqCmy\n",
            "title: Questions.csv, id: 1gMLHGvu9g_cjCjanHuSi2mXiu9CKxDJt\n",
            "title: stacksample.zip, id: 108nI1CKDYY0tJWrMpbVM5xg6e42rRO-M\n",
            "title: test_QyjYwdj (1).csv, id: 1yxa4HwhgpL9Vxl7o9AFVO45xBLVySYAn\n",
            "title: train_AUpWtIz.zip, id: 1uHHcT0XcNjZLuNaUKmD8JPLPp6Fghioa\n",
            "title: customer_transaction_data.zip, id: 1qxPrNEF9hdnMWlQoN2qukEWzbd2IchSs\n",
            "title: campaign_data.zip, id: 1L5SSqVECTJyD_JFCf7Ci5UtP_192N9ew\n",
            "title: customer_demographics.zip, id: 1dS2YdDEMsEBk3PdJxYOyH7cIwFph3DOr\n",
            "title: item_data.zip, id: 1mwnDJiG5jGBKj1aaxmKHOtdaxm5dSlv7\n",
            "title: train.zip, id: 1Ti6rQzvL1elIJmhBW9jxdAYtU3Q6NSIL\n",
            "title: coupon_item_mapping.zip, id: 1HVE1a6x4-UmFsJDnZFFOlqqRo8pv_l5P\n",
            "title: cat_dog_sub.zip, id: 1J76Xj7Y43ak4ShVrXbOFARxVH-AyzQ3-\n",
            "title: mnist_data.zip, id: 1gtCuiTA5Uy8Stu7JX1OZOoaoJP5iCZ0Z\n",
            "title: Colab Notebooks, id: 1CdjmmvhVnz3xMn5nzsl8KD-IAJ4oYeUD\n",
            "title: HackTestData1, id: 1S3H_oI6-B2MLu6rQHdF_J-J-O_p6LpoS_T1Kiguu5N8\n",
            "title: Utrkhnd, id: 1HpuvTkJRUn-o8rpe8IlwwY_j8BEklo4e\n",
            "title: New folder, id: 1VqQYBJdstGfAFDfMuRfak2YywROArXgv\n",
            "title: IMG_20170511_130451.jpg, id: 0ByTJPLpbfZwdbm9BbFktakhzc00\n",
            "title: IMG_20170511_130454.jpg, id: 0ByTJPLpbfZwdSnlCOUctRmo2UDg\n",
            "title: IMG_20170511_162144.jpg, id: 0ByTJPLpbfZwdQ000ODlrMzdjbWc\n",
            "title: IMG_20170511_162146.jpg, id: 0ByTJPLpbfZwdWHNoVXB6d0trLUE\n",
            "title: IMG_20170511_162150.jpg, id: 0ByTJPLpbfZwdei1uNW1YVHpXRHc\n",
            "title: IMG_20170511_162625.jpg, id: 0ByTJPLpbfZwdNDZNdmR4dnpfZWM\n",
            "title: IMG_20170511_162627.jpg, id: 0ByTJPLpbfZwdeFZIQUFEMDRnQ1U\n",
            "title: IMG_20170511_162629.jpg, id: 0ByTJPLpbfZwdMVpTcWY5ak5YdUk\n",
            "title: IMG_20170512_155729.jpg, id: 0ByTJPLpbfZwdMmJaQ25md1o0aU0\n",
            "title: IMG_20170511_164929_HHT.jpg, id: 0ByTJPLpbfZwdOF9oeGFNekV1RXM\n",
            "title: IMG_20170511_162631.jpg, id: 0ByTJPLpbfZwdRWctM3lnaC0yd3c\n",
            "title: IMG_20170511_162633.jpg, id: 0ByTJPLpbfZwdWl8zaHJpbXF2U3c\n",
            "title: IMG_20170511_164935_HHT.jpg, id: 0ByTJPLpbfZwdRlFDb28yeDltWkU\n",
            "title: IMG_20170511_165806_HHT.jpg, id: 0ByTJPLpbfZwdelJCaS02M1A5c3M\n",
            "title: IMG_20170511_165804_HHT.jpg, id: 0ByTJPLpbfZwdX0M4eVQ1Tm9fdEE\n",
            "title: IMG_20170511_164944_HHT.jpg, id: 0ByTJPLpbfZwdby1fY1RncFFleDA\n",
            "title: IMG_20170511_165808_HHT.jpg, id: 0ByTJPLpbfZwda1VlTDF2a2ZJRmM\n",
            "title: IMG_20170511_165810_HHT.jpg, id: 0ByTJPLpbfZwdem5WSjRFUWdKWlU\n",
            "title: IMG_20170511_165815_HHT.jpg, id: 0ByTJPLpbfZwdODRLaHl0Qm1QMU0\n",
            "title: IMG_20170511_165816_HHT.jpg, id: 0ByTJPLpbfZwdbjJiZU1JMWZqSkU\n",
            "title: IMG_20170511_170100.jpg, id: 0ByTJPLpbfZwdNFZnd1E3RUhMdHc\n",
            "title: IMG_20170511_170120.jpg, id: 0ByTJPLpbfZwdbWt5TTN3ZGRIX2s\n",
            "title: IMG_20170511_182231.jpg, id: 0ByTJPLpbfZwdOVlHNDFhTUdpM0k\n",
            "title: IMG_20170511_182248.jpg, id: 0ByTJPLpbfZwdUXFRbFFtaFJrZUU\n",
            "title: IMG_20170511_182251.jpg, id: 0ByTJPLpbfZwdWEN4ZUVfc1ZXcUU\n",
            "title: IMG_20170511_182255.jpg, id: 0ByTJPLpbfZwdM2tiMlgxMzNNUlk\n",
            "title: IMG_20170511_182258.jpg, id: 0ByTJPLpbfZwdb0VEMDRvU05Ycjg\n",
            "title: IMG_20170511_182302.jpg, id: 0ByTJPLpbfZwddmpHSE9mWlM4ZDA\n",
            "title: IMG_20170511_182304.jpg, id: 0ByTJPLpbfZwdV2hGcWFxWkVDdE0\n",
            "title: IMG_20170511_182307.jpg, id: 0ByTJPLpbfZwdN2RJeGs2cFZ5c28\n",
            "title: IMG_20170511_182308.jpg, id: 0ByTJPLpbfZwdY3BfWmVoX2hYUmc\n",
            "title: IMG_20170511_182315.jpg, id: 0ByTJPLpbfZwdb2prLXU2eHgtRWs\n",
            "title: IMG_20170511_182317.jpg, id: 0ByTJPLpbfZwdYmFhc01VZ2duVE0\n",
            "title: IMG_20170511_184424.jpg, id: 0ByTJPLpbfZwdMmJXbHg3eUd6QXc\n",
            "title: IMG_20170511_182318.jpg, id: 0ByTJPLpbfZwdZlVReEZrbDd0cjA\n",
            "title: IMG_20170511_184432.jpg, id: 0ByTJPLpbfZwdZFl4X1JXZmZoZDA\n",
            "title: IMG_20170511_184437.jpg, id: 0ByTJPLpbfZwdRVFKM05pdTlWODQ\n",
            "title: IMG_20170511_184454.jpg, id: 0ByTJPLpbfZwdLVo3M0J2OFM2Yms\n",
            "title: IMG_20170511_184441.jpg, id: 0ByTJPLpbfZwdLTRwSHNwVnRtQWs\n",
            "title: IMG_20170511_184456.jpg, id: 0ByTJPLpbfZwdcVQtMGFGY19IQUE\n",
            "title: IMG_20170511_184501.jpg, id: 0ByTJPLpbfZwdYzdnOXAwMnNQaDQ\n",
            "title: IMG_20170511_184508.jpg, id: 0ByTJPLpbfZwdWUE2TUt1M096Yzg\n",
            "title: IMG_20170511_184513.jpg, id: 0ByTJPLpbfZwdZVBhZjZXZkpha2M\n",
            "title: IMG_20170511_184518.jpg, id: 0ByTJPLpbfZwdSUk3dC1uUHJBU1E\n",
            "title: IMG_20170511_184515.jpg, id: 0ByTJPLpbfZwdMkVBUUpMWGlieFE\n",
            "title: IMG_20170511_184521.jpg, id: 0ByTJPLpbfZwdRENneDJFSzlDenc\n",
            "title: IMG_20170511_184653.jpg, id: 0ByTJPLpbfZwdSTVGZldNMWpZeVE\n",
            "title: IMG_20170511_184657.jpg, id: 0ByTJPLpbfZwddk14cnFzZUJKbms\n",
            "title: IMG_20170511_184700.jpg, id: 0ByTJPLpbfZwdQmI2cEo5MklKZDA\n",
            "title: IMG_20170511_184926.jpg, id: 0ByTJPLpbfZwdNU10THdhRHRJanM\n",
            "title: IMG_20170511_184947.jpg, id: 0ByTJPLpbfZwdd0tuM3l0VkJfcVk\n",
            "title: IMG_20170511_185241.jpg, id: 0ByTJPLpbfZwdWnBHZTJLOXpldHc\n",
            "title: IMG_20170511_184950.jpg, id: 0ByTJPLpbfZwdRkM1bUt5ekg2OEE\n",
            "title: IMG_20170511_185209.jpg, id: 0ByTJPLpbfZwdVm1vUXNydWhQUms\n",
            "title: IMG_20170511_184955.jpg, id: 0ByTJPLpbfZwdRDliSkt5eFpCY1E\n",
            "title: IMG_20160711_161948.jpg, id: 0ByTJPLpbfZwdLUx1bUpUQkJfTFU\n",
            "title: IMG_20160711_172409.jpg, id: 0ByTJPLpbfZwdWHZaNVRrR0JRNDA\n",
            "title: IMG_20160711_170055_HDR.jpg, id: 0ByTJPLpbfZwdazVLMHNLOHdXZFU\n",
            "title: IMG_20170505_222157.jpg, id: 0ByTJPLpbfZwdV2djN2hnV3lzc1E\n",
            "title: IMG_20160707_103412.jpg, id: 0ByTJPLpbfZwdUzJZcGdKcnVvZFE\n",
            "title: IMG_20160707_085301-1.jpg, id: 0ByTJPLpbfZwdZmZGT0xrUmEyMkU\n",
            "title: v.jpg, id: 0ByTJPLpbfZwdWGdXUTdwWWpOLUU\n",
            "title: IMG_20160707_103626.jpg, id: 0ByTJPLpbfZwdUDNCa2w2UzdMVzg\n",
            "title: IMG_20160711_163434.jpg, id: 0ByTJPLpbfZwdaTFrRV9rZ0UxRkE\n",
            "title: IMG_20160711_171543_HDR.jpg, id: 0ByTJPLpbfZwdWHhDaUFuUklrRkk\n",
            "title: IMG_20160807_113251.jpg, id: 0ByTJPLpbfZwdamlXcUhubWNJMHc\n",
            "title: IMG_20160711_162058.jpg, id: 0ByTJPLpbfZwdcXVmUkEtR3o3eHc\n",
            "title: IMG_20160711_162145.jpg, id: 0ByTJPLpbfZwdNTc3ZVRSXzRMSlk\n",
            "title: IMG_20160711_161938.jpg, id: 0ByTJPLpbfZwdNGFvdlRWTk96ams\n",
            "title: IMG_20160711_162119.jpg, id: 0ByTJPLpbfZwdNzZJQkZta2xuMlE\n",
            "title: IMG_20160711_182234.jpg, id: 0ByTJPLpbfZwddlhkOFJXaXJqdDA\n",
            "title: BeautyPlus_20160709223518_save.jpg, id: 0ByTJPLpbfZwdUExQdUNvemxIMzg\n",
            "title: IMG_20160711_182228.jpg, id: 0ByTJPLpbfZwdVm11bnFaaC1aQlk\n",
            "title: IMG_20160709_180331.jpg, id: 0ByTJPLpbfZwdRWlWWVkzekRoYXc\n",
            "title: IMG_20160711_164341_HDR.jpg, id: 0ByTJPLpbfZwdSHVfMkVGNEJJZVk\n",
            "title: 2016-07-11-16-43-31-908.jpg, id: 0ByTJPLpbfZwdenJaUUhBYlo1Ukk\n",
            "title: 2016-07-11-16-39-08-228.jpg, id: 0ByTJPLpbfZwdRjlWUFdlaVFVSW8\n",
            "title: IMG_20170205_172023.jpg, id: 0ByTJPLpbfZwdY1lOWG1xQTF6azQ\n",
            "title: IMG_20170205_172057.jpg, id: 0ByTJPLpbfZwdeDB2SS1GdFMxMUk\n",
            "title: IMG_20170205_171900.jpg, id: 0ByTJPLpbfZwda0kzSjZBUFpuRGM\n",
            "title: IMG_20170205_172138.jpg, id: 0ByTJPLpbfZwdSnVtc3hnc1JkUmc\n",
            "title: IMG_20170205_172142.jpg, id: 0ByTJPLpbfZwdak1LZzBEanFnSEk\n",
            "title: IMG_20170205_172131.jpg, id: 0ByTJPLpbfZwdcTBSMUtvSXdZdzg\n",
            "title: IMG_20170205_171959.jpg, id: 0ByTJPLpbfZwdTWhTYWVURDF6eVU\n",
            "title: IMG_20160902_142437.jpg, id: 0ByTJPLpbfZwdWlNTczVDSFRtSFk\n",
            "title: IMG_20170205_172129.jpg, id: 0ByTJPLpbfZwdR0RGS3Q3LUhXeVU\n",
            "title: IMG_20170205_172013.jpg, id: 0ByTJPLpbfZwdcndwRWpVM2Jsd1k\n",
            "title: IMG_20170205_172109.jpg, id: 0ByTJPLpbfZwdb3FWbmRGREVSSzA\n",
            "title: IMG_20160903_142445.jpg, id: 0ByTJPLpbfZwdcDY2MjZVeWNPMFE\n",
            "title: IMG_20170205_172011.jpg, id: 0ByTJPLpbfZwdVGxYeGo4MnBELVU\n",
            "title: IMG_20170205_172054.jpg, id: 0ByTJPLpbfZwdSGFvelVCbnRwNm8\n",
            "title: IMG_20160903_154748.jpg, id: 0ByTJPLpbfZwdRXgwbzNObWdCVGs\n",
            "title: IMG_20160903_154753.jpg, id: 0ByTJPLpbfZwdSnRNT1RiNHV0WHM\n",
            "title: IMG_20160903_142945.jpg, id: 0ByTJPLpbfZwdNm1KOVJlbjAwQ1U\n",
            "title: IMG_20160903_154813.jpg, id: 0ByTJPLpbfZwdd3pVOTREdlRReFU\n",
            "title: IMG_20170204_171313.jpg, id: 0ByTJPLpbfZwdN0F1aG9FR1FhX0k\n",
            "title: IMG_20170204_171320.jpg, id: 0ByTJPLpbfZwdTGxxZHhEM29VLXc\n",
            "title: IMG_20170204_171330.jpg, id: 0ByTJPLpbfZwdcXlrMDVqWUpLaVE\n",
            "title: IMG_20170204_171332.jpg, id: 0ByTJPLpbfZwdOE9Rcm5GcTFlaXc\n",
            "title: IMG_20170204_171337.jpg, id: 0ByTJPLpbfZwdTlpXcnZCTEJJMlU\n",
            "title: IMG_20170204_171347.jpg, id: 0ByTJPLpbfZwdM1lhaFdiX2Zld3M\n",
            "title: IMG_20170204_171351.jpg, id: 0ByTJPLpbfZwdNlJPNHdxRFR5Zjg\n",
            "title: IMG_20170204_180929.jpg, id: 0ByTJPLpbfZwdYU1JdXdSUkdUaXM\n",
            "title: IMG_20170204_180932.jpg, id: 0ByTJPLpbfZwdZ1ltelNiX0Y2X00\n",
            "title: IMG_20170204_180944.jpg, id: 0ByTJPLpbfZwddUlkX3ZWcU1JeGc\n",
            "title: IMG_20170204_181007.jpg, id: 0ByTJPLpbfZwdMkNzc1FBYmlnLTA\n",
            "title: IMG_20170204_180947.jpg, id: 0ByTJPLpbfZwdLXFHUmdic0pQZmM\n",
            "title: IMG_20170204_181003.jpg, id: 0ByTJPLpbfZwdSTVIdlZJcGVsUkk\n",
            "title: IMG_20170204_181012.jpg, id: 0ByTJPLpbfZwdd2RmZmRxd2dyYm8\n",
            "title: IMG_20170204_182814.jpg, id: 0ByTJPLpbfZwdemtTYng4VW1lcjg\n",
            "title: IMG_20170204_181027.jpg, id: 0ByTJPLpbfZwdV3pYOHJLc01welk\n",
            "title: IMG_20170204_181019.jpg, id: 0ByTJPLpbfZwdaHU3UHAwbk96a00\n",
            "title: IMG_20170204_181437.jpg, id: 0ByTJPLpbfZwdUlYtNzhtdmQtVzQ\n",
            "title: IMG_20170204_181439.jpg, id: 0ByTJPLpbfZwdLTF4b3YxcEM5SEE\n",
            "title: IMG_20170204_181853.jpg, id: 0ByTJPLpbfZwdNjN1YjJ5NWNNRVE\n",
            "title: IMG_20170204_183705.jpg, id: 0ByTJPLpbfZwdZDVCMndJZkxVd3c\n",
            "title: IMG_20170204_183712.jpg, id: 0ByTJPLpbfZwdSjRvWUdLTVlJZ0U\n",
            "title: IMG_20170204_191102.jpg, id: 0ByTJPLpbfZwdTldtcEtfTFh2TU0\n",
            "title: IMG_20170204_191058.jpg, id: 0ByTJPLpbfZwdd1NCRjY3YThyZWc\n",
            "title: IMG_20170204_191111.jpg, id: 0ByTJPLpbfZwdR1pLZkk5cnpxRGM\n",
            "title: IMG_20170204_191118.jpg, id: 0ByTJPLpbfZwdV2Rqd3dRRVczWXc\n",
            "title: IMG_20170204_191135.jpg, id: 0ByTJPLpbfZwdMG9rRnYyZzdkWW8\n",
            "title: IMG_20170204_191120.jpg, id: 0ByTJPLpbfZwdTEpPV0hLeUprbE0\n",
            "title: IMG_20170204_191138.jpg, id: 0ByTJPLpbfZwdUXA0Ul9qSk1fa3M\n",
            "title: IMG_20170204_191144.jpg, id: 0ByTJPLpbfZwdTElsVTRYSDNMVjQ\n",
            "title: IMG_20170204_191141.jpg, id: 0ByTJPLpbfZwdRWkzcEtzWU5jdGc\n",
            "title: IMG_20170204_191200.jpg, id: 0ByTJPLpbfZwdY0hZazhQajRBUGc\n",
            "title: IMG_20170204_191230.jpg, id: 0ByTJPLpbfZwddm5OMjlyYmFRS3c\n",
            "title: IMG_20170204_191256.jpg, id: 0ByTJPLpbfZwdY05ON1RuU3pMcjA\n",
            "title: IMG_20170204_191252.jpg, id: 0ByTJPLpbfZwddnp3ZWpVcU9TVkE\n",
            "title: IMG_20170204_191237.jpg, id: 0ByTJPLpbfZwdMVZUNGNkUEVRY0E\n",
            "title: IMG_20170204_191258.jpg, id: 0ByTJPLpbfZwdVV9OWDNrMU0xeWs\n",
            "title: IMG_20170204_191322.jpg, id: 0ByTJPLpbfZwdcENYeEN2dkpLMUk\n",
            "title: IMG_20170204_191306.jpg, id: 0ByTJPLpbfZwdTUNfU1pZSVYybGM\n",
            "title: IMG_20170204_191329.jpg, id: 0ByTJPLpbfZwdX2IxSU5tSkxudnc\n",
            "title: IMG_20170204_191309.jpg, id: 0ByTJPLpbfZwdaUEwSXpmZnMyWDg\n",
            "title: IMG-20161216-WA0002.jpg, id: 0ByTJPLpbfZwdamxMTFNUdUk5RnM\n",
            "title: IMG-20170101-WA0027.jpg, id: 0ByTJPLpbfZwddmhTQmdWaWtJUE0\n",
            "title: IMG-20161213-WA0005.jpg, id: 0ByTJPLpbfZwdM2x3bHpyaXVNSzQ\n",
            "title: IMG-20160807-WA0001.jpg, id: 0ByTJPLpbfZwdTHdBY2xCMFVBczQ\n",
            "title: IMG-20161108-WA0004.jpg, id: 0ByTJPLpbfZwdVHhvOG1RR2luWkk\n",
            "title: IMG-20160731-WA0003.jpg, id: 0ByTJPLpbfZwdYkRJWTdyR2lYdGc\n",
            "title: IMG-20160619-WA0002.jpg, id: 0ByTJPLpbfZwdLWREWkU1RlRPWlk\n",
            "title: IMG-20161115-WA0006.jpg, id: 0ByTJPLpbfZwdeTNlUlAyS2VoOXc\n",
            "title: IMG-20161112-WA0004.jpg, id: 0ByTJPLpbfZwdSTBSV0VNU2luYWc\n",
            "title: IMG-20161114-WA0005.jpg, id: 0ByTJPLpbfZwdQVZQU19OcGY5MTA\n",
            "title: IMG-20161115-WA0004.jpg, id: 0ByTJPLpbfZwdYy1JeVdnSGwtMlk\n",
            "title: IMG-20160907-WA0007.jpg, id: 0ByTJPLpbfZwdRlR0eWJEbS05dnc\n",
            "title: IMG-20160722-WA0000.jpg, id: 0ByTJPLpbfZwdZUMzX0k1eXhvUEk\n",
            "title: IMG-20161002-WA0001.jpg, id: 0ByTJPLpbfZwdWUtEUmp2SnlLWHc\n",
            "title: IMG_20170205_144823.jpg, id: 0ByTJPLpbfZwdelZBUWstVTk4OGM\n",
            "title: IMG_20170205_144835.jpg, id: 0ByTJPLpbfZwdamk1NExOeXE2UGc\n",
            "title: IMG_20170205_144841.jpg, id: 0ByTJPLpbfZwda2R1R2dHRndlek0\n",
            "title: IMG_20170205_170227.jpg, id: 0ByTJPLpbfZwdalNwMDI3U0hpTUE\n",
            "title: IMG_20170205_144856.jpg, id: 0ByTJPLpbfZwdekV2aDdNZ3ZTVEU\n",
            "title: IMG_20170205_170332.jpg, id: 0ByTJPLpbfZwdZUVjRFBFZUJVNmM\n",
            "title: IMG_20170205_170329.jpg, id: 0ByTJPLpbfZwdRjhyb0ZOUkdqNjg\n",
            "title: IMG_20170205_144902.jpg, id: 0ByTJPLpbfZwdRmE4WWZLdEE0ekU\n",
            "title: IMG_20170205_144902.jpg, id: 0ByTJPLpbfZwdNElGTXZGYXRGRkk\n",
            "title: IMG_20170220_131230.jpg, id: 0ByTJPLpbfZwdQ2t4b0E3d0d5aW8\n",
            "title: IMG_20170316_165441.jpg, id: 0ByTJPLpbfZwdYnN2RTBQbTJpUnM\n",
            "title: IMG_20170503_180744.jpg, id: 0ByTJPLpbfZwdVU1sU0cya3NWLUU\n",
            "title: IMG_20170504_014104.jpg, id: 0ByTJPLpbfZwdSEFteWRQZTF2WG8\n",
            "title: IMG_20170503_211155.jpg, id: 0ByTJPLpbfZwdd2NNNnNUTml3b28\n",
            "title: IMG_20170503_191832.jpg, id: 0ByTJPLpbfZwdeXE3UjhMX09YanM\n",
            "title: IMG_20170503_182054.jpg, id: 0ByTJPLpbfZwdRE1OaUd2eGFmSzg\n",
            "title: IMG_20170503_232707.jpg, id: 0ByTJPLpbfZwdLXV6QVlPN2s0N00\n",
            "title: IMG_20170503_181529.jpg, id: 0ByTJPLpbfZwdWmoyb1ExRlplY2s\n",
            "title: IMG_20170503_181954.jpg, id: 0ByTJPLpbfZwdV292U21KYWNhdlk\n",
            "title: IMG_20170503_164324.jpg, id: 0ByTJPLpbfZwdbzdUMVhSS3JVdG8\n",
            "title: IMG_20170503_165617.jpg, id: 0ByTJPLpbfZwdUjNmTkozZ2s5OEU\n",
            "title: IMG_20170503_164330.jpg, id: 0ByTJPLpbfZwddW5wc1QtRnZUWXc\n",
            "title: IMG_20170504_014110.jpg, id: 0ByTJPLpbfZwdZzNYY3gyZnhyQUE\n",
            "title: IMG_20170503_165628.jpg, id: 0ByTJPLpbfZwdSmNDTzE1YzBoT0k\n",
            "title: IMG_20170503_165636.jpg, id: 0ByTJPLpbfZwdUXk1T1NUdG5UR2c\n",
            "title: IMG_20170503_232451.jpg, id: 0ByTJPLpbfZwdUTUzMU5xeWlhNzA\n",
            "title: IMG_20170503_164757.jpg, id: 0ByTJPLpbfZwdYTJac2F1VGVsblE\n",
            "title: IMG_20170503_211229.jpg, id: 0ByTJPLpbfZwdRTNHZTgwcmNyQnc\n",
            "title: IMG_20170503_181519.jpg, id: 0ByTJPLpbfZwdeUZrZHlQSHlvclU\n",
            "title: IMG_20170504_014136.jpg, id: 0ByTJPLpbfZwdaDFvZWUyYUQ5N3M\n",
            "title: IMG_20170503_194838.jpg, id: 0ByTJPLpbfZwdZ0xwZi1pbXhSM1U\n",
            "title: IMG_20170503_180807.jpg, id: 0ByTJPLpbfZwdemg3NTBJV0UwTnc\n",
            "title: IMG_20170503_181510.jpg, id: 0ByTJPLpbfZwdSTlBcnVsd1JhSG8\n",
            "title: IMG_20170503_181957.jpg, id: 0ByTJPLpbfZwdQVRqSGtURk5FWXM\n",
            "title: IMG_20170503_211247.jpg, id: 0ByTJPLpbfZwdRXdDQklMdjcxT00\n",
            "title: IMG_20170503_122135.jpg, id: 0ByTJPLpbfZwdMzY1SmdoN2pnQzQ\n",
            "title: IMG_20170503_194822.jpg, id: 0ByTJPLpbfZwdOWxJSEFXYUwtWGc\n",
            "title: IMG_20170503_194733.jpg, id: 0ByTJPLpbfZwdQlZSX2RfU1BnbXM\n",
            "title: IMG_20170503_164755.jpg, id: 0ByTJPLpbfZwddk1SNW1nRmJFd0k\n",
            "title: LFH Videos, id: 0ByWJ0NbMDjKrdFNjVHJhbUx1X28\n",
            "title: tech mahindra.jpg, id: 0ByTJPLpbfZwdbm9fXzdqYzBoX2c\n",
            "title: IMG_20160112_211422.jpg, id: 0ByTJPLpbfZwdOGVYMnoyMXNIZjg\n",
            "title: IMG_20160112_211449.jpg, id: 0ByTJPLpbfZwdTm9EQmd6RHFLbTg\n",
            "title: IMG_20160112_211449 (2).jpg, id: 0ByTJPLpbfZwdSnJjb09hellKR0k\n",
            "title: IMG-20160105-WA0000.jpg, id: 0ByTJPLpbfZwdeGRZdzVzbFNxV2c\n",
            "title: IMG-20160105-WA0001.jpg, id: 0ByTJPLpbfZwdWjZBQjJEcE9TVGc\n",
            "title: IMG_20160112_211521.jpg, id: 0ByTJPLpbfZwdM1Q4eHVJTE5VUG8\n",
            "title: IMG_20160112_211620.jpg, id: 0ByTJPLpbfZwdQmZRSG5NcGwtZXM\n",
            "title: IMG_20160112_211551.jpg, id: 0ByTJPLpbfZwdeWN4WEVGTmVEdkk\n",
            "title: IMG_20160112_211541.jpg, id: 0ByTJPLpbfZwdaTk3WEtzdXZEeWc\n",
            "title: IMG_20160112_211625.jpg, id: 0ByTJPLpbfZwdZUphRHJCMmhvb1k\n",
            "title: IMG-20160224-WA0000.jpg, id: 0ByTJPLpbfZwdcU01WEZtTmRIUTg\n",
            "title: IMG-20160224-WA0001.jpg, id: 0ByTJPLpbfZwdQ09LZ2JId0FXVFE\n",
            "title: IMG-20160308-WA0001.jpg, id: 0ByTJPLpbfZwddkMyNWRJeENVcjA\n",
            "title: IMG-20160324-WA0002.jpg, id: 0ByTJPLpbfZwddU9NRm1LUmoyTjg\n",
            "title: IMG-20160307-WA0001.jpg, id: 0ByTJPLpbfZwdTktCOVdvUG1jdEk\n",
            "title: IMG-20160316-WA0016.jpg, id: 0ByTJPLpbfZwdNkpxSDZmUjZhakk\n",
            "title: IMG-20160407-WA0021.jpg, id: 0ByTJPLpbfZwdcnNDMDBxbkhWVFk\n",
            "title: IMG-20160407-WA0018.jpg, id: 0ByTJPLpbfZwdZ0FtcEhTNWtHa1k\n",
            "title: IMG-20160407-WA0019.jpg, id: 0ByTJPLpbfZwdeTA0MUhPUm04dGc\n",
            "title: IMG-20160407-WA0020.jpg, id: 0ByTJPLpbfZwdWS04Z2ljaHhvUzQ\n",
            "title: IMG-20160417-WA0000.jpg, id: 0ByTJPLpbfZwdYlhGUW8zd0ZRc1U\n",
            "title: IMG-20160417-WA0006.jpg, id: 0ByTJPLpbfZwdQ2s0Rl9hT25OWWc\n",
            "title: IMG-20160417-WA0002.jpg, id: 0ByTJPLpbfZwdVWdPUzJCb0pzRGs\n",
            "title: IMG-20160417-WA0003.jpg, id: 0ByTJPLpbfZwdT05MRW5fZmc1QXc\n",
            "title: IMG-20160417-WA0001.jpg, id: 0ByTJPLpbfZwdMlpGeUV6S0hwREE\n",
            "title: IMG-20160417-WA0007.jpg, id: 0ByTJPLpbfZwdaVRiMmF4Q05pU2s\n",
            "title: IMG-20160503-WA0000.jpg, id: 0ByTJPLpbfZwdZ2pSeGNDc3lqeFU\n",
            "title: IMG-20160417-WA0004.jpg, id: 0ByTJPLpbfZwdT1p6ME81eXdBcWs\n",
            "title: IMG-20160421-WA0006.jpg, id: 0ByTJPLpbfZwddmw3Tm8xRHlBWkE\n",
            "title: IMG-20160427-WA0005.jpg, id: 0ByTJPLpbfZwdd3RYOS0tMXdtN0k\n",
            "title: IMG-20160503-WA0004.jpg, id: 0ByTJPLpbfZwdNkJ6Z0xUTUI4ZFk\n",
            "title: IMG-20160514-WA0001.jpg, id: 0ByTJPLpbfZwdZHdIaFB6akdnRUU\n",
            "title: IMG-20160514-WA0002.jpg, id: 0ByTJPLpbfZwdSlFVbFJVUGdtZDQ\n",
            "title: IMG-20160514-WA0003.jpg, id: 0ByTJPLpbfZwda0ZLZ2JaVXVSR1E\n",
            "title: IMG-20160514-WA0005.jpg, id: 0ByTJPLpbfZwdcGYwbFNtbGFxd0k\n",
            "title: IMG-20160514-WA0004.jpg, id: 0ByTJPLpbfZwdeTE2ekI4RGVuSms\n",
            "title: 20160111_133150(0).jpg, id: 0ByTJPLpbfZwdN1FVdVF3X185OEU\n",
            "title: 20160111_133150.jpg, id: 0ByTJPLpbfZwdcnNiZGcxcjM4VEU\n",
            "title: 20160111_133620.jpg, id: 0ByTJPLpbfZwda2t1NGtlWl8wVVE\n",
            "title: 20160111_133608.jpg, id: 0ByTJPLpbfZwddC1TUjJXZTh5bkk\n",
            "title: 20160111_133512.jpg, id: 0ByTJPLpbfZwdRVgwLTRXcFoxTHc\n",
            "title: 20160111_133518.jpg, id: 0ByTJPLpbfZwdVkVYQXc2QUNqVGs\n",
            "title: 20160111_133303.jpg, id: 0ByTJPLpbfZwdOFcxUHhycDVCS1U\n",
            "title: 20160111_133304.jpg, id: 0ByTJPLpbfZwdU1NOQ1VzZl9Db0U\n",
            "title: 20160111_133205.jpg, id: 0ByTJPLpbfZwdUTJGSXFTS3pvT1k\n",
            "title: 20160111_133229(0).jpg, id: 0ByTJPLpbfZwdRUFHd3dyb3A1cEE\n",
            "title: 20160111_133150(0).jpg, id: 0ByTJPLpbfZwda1hoRXVwQ1B2c0E\n",
            "title: 20160111_133150.jpg, id: 0ByTJPLpbfZwdbXFZTVltNjh3SDQ\n",
            "title: 20160111_133229.jpg, id: 0ByTJPLpbfZwdWmZ2SjJ2Z053aEk\n",
            "title: 20160111_133128.jpg, id: 0ByTJPLpbfZwdZm9NUVpiNU50QXM\n",
            "title: 20160111_133146.jpg, id: 0ByTJPLpbfZwdRVNISjRfTmZQNkk\n",
            "title: 20160111_133116.jpg, id: 0ByTJPLpbfZwdeV96LWxSU09TZnc\n",
            "title: 20160111_133127.jpg, id: 0ByTJPLpbfZwdZk1Vc2lsRDdWeW8\n",
            "title: 20160111_133113.jpg, id: 0ByTJPLpbfZwdU05QbnNzeDJ1NjA\n",
            "title: 20160111_133115(0).jpg, id: 0ByTJPLpbfZwdUzB2WGtZaERJMTA\n",
            "title: 20160111_133115.jpg, id: 0ByTJPLpbfZwdaG9rRHp3TFNYa1U\n",
            "title: 20160111_133112-1.jpg, id: 0ByTJPLpbfZwdR2M5dEtwdFR6MEU\n",
            "title: 20160111_133111-1.jpg, id: 0ByTJPLpbfZwdU3RXRl9XbXhRYWM\n",
            "title: 20160111_132836-1.jpg, id: 0ByTJPLpbfZwdNlBfOWYyS1htS1k\n",
            "title: 20160111_133108-1.jpg, id: 0ByTJPLpbfZwdZFAyNWxIQWpJQ1E\n",
            "title: 20160111_133109-1.jpg, id: 0ByTJPLpbfZwdTy1zSmMyaWN0VVk\n",
            "title: 20160111_132836-1.jpg, id: 0ByTJPLpbfZwdeEloWlhDUUcxWjA\n",
            "title: 20160111_132835-1.jpg, id: 0ByTJPLpbfZwdQUpMdmxoZ1gyWUU\n",
            "title: 20160111_132753-1.jpg, id: 0ByTJPLpbfZwdb18tUGs4YUhvaTQ\n",
            "title: 20160111_132834-1.jpg, id: 0ByTJPLpbfZwdN3dXaEprQmZkNlE\n",
            "title: 20160111_132648-1.jpg, id: 0ByTJPLpbfZwdcGtxMUZqQWc5QWs\n",
            "title: 20160111_131937-1.jpg, id: 0ByTJPLpbfZwddEtCYVBBNzZRTTQ\n",
            "title: 20160111_131747-1.jpg, id: 0ByTJPLpbfZwdZ1NKVWdLTmJwNzg\n",
            "title: 20160111_131745-1.jpg, id: 0ByTJPLpbfZwdbW9PLTQ4YW0zNnc\n",
            "title: 20160111_131717-1.jpg, id: 0ByTJPLpbfZwdRzFEa28yN21xQXM\n",
            "title: 20160111_131721-1.jpg, id: 0ByTJPLpbfZwdd2xCaVo2VWxvZG8\n",
            "title: 20160111_131735-1.jpg, id: 0ByTJPLpbfZwdUFdjY0ZqLVVrLUk\n",
            "title: 20160111_131541-1.jpg, id: 0ByTJPLpbfZwdT3pxMURqNDRPLVE\n",
            "title: 20160111_131535-1.jpg, id: 0ByTJPLpbfZwdR3lEZGZ4V3J0bTQ\n",
            "title: 20160111_131715-1.jpg, id: 0ByTJPLpbfZwdSUlsLTZGY1hBN1k\n",
            "title: 20160111_131527-1.jpg, id: 0ByTJPLpbfZwdbXZDTFdQVS16U3c\n",
            "title: 20160111_131426-1.jpg, id: 0ByTJPLpbfZwdLXA5a3RJTkdWVDA\n",
            "title: 20160111_131416-1.jpg, id: 0ByTJPLpbfZwdRXJiUFhPY0JYcU0\n",
            "title: 20160111_131424-1.jpg, id: 0ByTJPLpbfZwdVE1jbW1HSDdCc1k\n",
            "title: 20160111_131418-1.jpg, id: 0ByTJPLpbfZwdWnA0bDc4T3ljNmc\n",
            "title: 20160111_131414-1.jpg, id: 0ByTJPLpbfZwdV1plSjZMNGJJS2c\n",
            "title: IMG_20160110_175729.jpg, id: 0ByTJPLpbfZwdajdVbE56THQ2RE0\n",
            "title: IMG_20160110_174759.jpg, id: 0ByTJPLpbfZwdSlFKUjhGSWZ5MzA\n",
            "title: IMG_20160110_175732.jpg, id: 0ByTJPLpbfZwdTzZKaFVwTnFzNlE\n",
            "title: IMG_20160110_174755.jpg, id: 0ByTJPLpbfZwdTThMdEp6VFRvUTg\n",
            "title: IMG_20160110_174758.jpg, id: 0ByTJPLpbfZwdcmtlNTRiTnlJaEU\n",
            "title: IMG_20160110_174753.jpg, id: 0ByTJPLpbfZwdNVdkcXkzd3lyem8\n",
            "title: IMG_20160110_175734.jpg, id: 0ByTJPLpbfZwdWTBWRzhoYWRpeHM\n",
            "title: 20160111_131414-1.jpg, id: 0ByTJPLpbfZwdOTluLWJOZFc5eVk\n",
            "title: 20160111_131416-1.jpg, id: 0ByTJPLpbfZwdN2FfWTFSMjVXejA\n",
            "title: 20160111_131402-1.jpg, id: 0ByTJPLpbfZwdQ2RyekVPY3hVa1k\n",
            "title: 20160111_131403-1.jpg, id: 0ByTJPLpbfZwdUjhBR1dScFU1SEU\n",
            "title: 20160111_131405-1.jpg, id: 0ByTJPLpbfZwdVGdNNFVULWplX2M\n",
            "title: IMG_20160111_122138.jpg, id: 0ByTJPLpbfZwdZTE4M0s5b3psaU0\n",
            "title: IMG_20160111_122135.jpg, id: 0ByTJPLpbfZwdMDljWXFiUHIyQVE\n",
            "title: IMG_20160111_122132.jpg, id: 0ByTJPLpbfZwdNFBucEsyT04yUVk\n",
            "title: IMG_20160111_121214.jpg, id: 0ByTJPLpbfZwdRkFEZTZvMldYdXM\n",
            "title: IMG_20160111_121221.jpg, id: 0ByTJPLpbfZwdYnZyVHZyZWV2OWc\n",
            "title: IMG_20160111_121226.jpg, id: 0ByTJPLpbfZwdTWdEZWdLcl9CQkE\n",
            "title: IMG_20160111_121211.jpg, id: 0ByTJPLpbfZwdZnlrUk9Oa0FhVm8\n",
            "title: IMG_20160111_115331.jpg, id: 0ByTJPLpbfZwdTHAyXzZkdjI2UDg\n",
            "title: 20160111_130636-1.jpg, id: 0ByTJPLpbfZwdN2xMQndsbmtLZTA\n",
            "title: 20160111_130656-1.jpg, id: 0ByTJPLpbfZwdWEFheEhxaUg1TUE\n",
            "title: IMG_20160111_134954.jpg, id: 0ByTJPLpbfZwda3NiZDN0bENaZHc\n",
            "title: IMG_20160111_134950.jpg, id: 0ByTJPLpbfZwdSU9KZTJNbXhnWk0\n",
            "title: IMG_20160111_134948.jpg, id: 0ByTJPLpbfZwdQzJSYVprVm1MTXM\n",
            "title: IMG_20160111_134944.jpg, id: 0ByTJPLpbfZwdTGd6ZTNFemx6MHc\n",
            "title: IMG_20160111_134939.jpg, id: 0ByTJPLpbfZwday1FbE51OEJrZE0\n",
            "title: IMG_20160111_134930.jpg, id: 0ByTJPLpbfZwdQlpNX1dBNTl2NHc\n",
            "title: IMG_20160111_134934.jpg, id: 0ByTJPLpbfZwdZERwc3dXWEtTdjg\n",
            "title: IMG_20160111_134933.jpg, id: 0ByTJPLpbfZwdRjlVV2ZmUkNuOVE\n",
            "title: IMG_20160111_134932.jpg, id: 0ByTJPLpbfZwdbDRKbVNsR3MtSlU\n",
            "title: IMG_20160111_134906.jpg, id: 0ByTJPLpbfZwdM2MzanFTYXdFVms\n",
            "title: IMG_20160111_134059.jpg, id: 0ByTJPLpbfZwdMjdBVlItNVJtaW8\n",
            "title: IMG_20160111_134905.jpg, id: 0ByTJPLpbfZwddVQxWGxaX3VGbU0\n",
            "title: IMG_20160111_134044-1.jpg, id: 0ByTJPLpbfZwdRGlwaWJLY3l2OGM\n",
            "title: IMG_20160111_134058.jpg, id: 0ByTJPLpbfZwdV1pMdDFQVFM1RHM\n",
            "title: IMG_20160111_134042.jpg, id: 0ByTJPLpbfZwdY081eXN6WVFzczQ\n",
            "title: IMG_20160111_134040-1.jpg, id: 0ByTJPLpbfZwdbGlpZXVlTFA3a0E\n",
            "title: IMG_20160111_134056.jpg, id: 0ByTJPLpbfZwdU2dOUFJyU1c1TkE\n",
            "title: IMG_20160111_133532.jpg, id: 0ByTJPLpbfZwdM2xxR1djYUxwODQ\n",
            "title: IMG_20160111_134037.jpg, id: 0ByTJPLpbfZwdYUlES04tVUN5TkU\n",
            "title: IMG_20160111_134030.jpg, id: 0ByTJPLpbfZwdQzlwbmJGV3NnVEU\n",
            "title: IMG_20160111_134034.jpg, id: 0ByTJPLpbfZwdWFdseGlnajBSbnc\n",
            "title: IMG_20160111_134032.jpg, id: 0ByTJPLpbfZwdQm5xS290NHNWbUE\n",
            "title: IMG_20160111_133528.jpg, id: 0ByTJPLpbfZwddnpXRjJLcXdVUHc\n",
            "title: IMG_20160111_133502.jpg, id: 0ByTJPLpbfZwdRHdNcFVRUjRBOG8\n",
            "title: IMG_20160111_133518.jpg, id: 0ByTJPLpbfZwdUm9kSklpOExNNFk\n",
            "title: IMG_20160111_133458.jpg, id: 0ByTJPLpbfZwdbFF5aFVZd0ZFX0E\n",
            "title: IMG_20160111_132816.jpg, id: 0ByTJPLpbfZwdb2o1WWJnVlZlS00\n",
            "title: IMG_20160111_132815.jpg, id: 0ByTJPLpbfZwdckVyV1dGZElaU1E\n",
            "title: IMG_20160111_132806.jpg, id: 0ByTJPLpbfZwdWGNBZk5XWVhOTlk\n",
            "title: IMG_20160111_132808.jpg, id: 0ByTJPLpbfZwdSlRWZ3lnME9zLUU\n",
            "title: IMG_20160111_132759.jpg, id: 0ByTJPLpbfZwdXzJzNzNpVGdFSTQ\n",
            "title: IMG_20160111_132754.jpg, id: 0ByTJPLpbfZwdSHk4UTFHSm9TYTQ\n",
            "title: IMG_20160111_132736.jpg, id: 0ByTJPLpbfZwdaElFR2pxOWd1SVk\n",
            "title: IMG_20160111_132732.jpg, id: 0ByTJPLpbfZwdSjNDZnRtcUxpVGM\n",
            "title: IMG_20160111_132726.jpg, id: 0ByTJPLpbfZwdZkNyUVVXaHhsdzQ\n",
            "title: IMG_20160111_132724.jpg, id: 0ByTJPLpbfZwdVnBUWkVPSE5aNUk\n",
            "title: IMG_20160111_132710.jpg, id: 0ByTJPLpbfZwdekIzeFJjNE5obUE\n",
            "title: IMG_20160111_132720.jpg, id: 0ByTJPLpbfZwdMUgwR3BLU3g5eHc\n",
            "title: IMG_20160111_132707.jpg, id: 0ByTJPLpbfZwdVmlIeUk2V18wTG8\n",
            "title: IMG_20160111_132449.jpg, id: 0ByTJPLpbfZwdVkd2TlFNbXVWSFE\n",
            "title: IMG_20160111_132422.jpg, id: 0ByTJPLpbfZwdTTRHbWF3WF9PUnM\n",
            "title: IMG_20160111_132437.jpg, id: 0ByTJPLpbfZwda2hRdjd3WDNlcEU\n",
            "title: IMG_20160111_132416.jpg, id: 0ByTJPLpbfZwdZW5jVjF6RU1lcjg\n",
            "title: IMG_20160111_132410.jpg, id: 0ByTJPLpbfZwda2pRMEhaWXhwaEU\n",
            "title: IMG_20160111_132413.jpg, id: 0ByTJPLpbfZwdckhuOUdBMjJJN0U\n",
            "title: IMG_20160111_132326.jpg, id: 0ByTJPLpbfZwdbW1tRUtNY1hNQlE\n",
            "title: IMG_20160111_132333.jpg, id: 0ByTJPLpbfZwdcTRfN3hTT3Fmc1k\n",
            "title: IMG_20160111_132304.jpg, id: 0ByTJPLpbfZwdb3RXWlNMNG9mWjg\n",
            "title: IMG_20160111_132323.jpg, id: 0ByTJPLpbfZwdZGdhMWJrLWZrOVU\n",
            "title: IMG_20160111_132309.jpg, id: 0ByTJPLpbfZwdTXg4dTlZbkItMDA\n",
            "title: IMG_20160111_131017.jpg, id: 0ByTJPLpbfZwdeXRWdGNNMzRMeXc\n",
            "title: IMG_20160111_131019.jpg, id: 0ByTJPLpbfZwdVnY5cmdKNWkwcTQ\n",
            "title: IMG_20160111_131011.jpg, id: 0ByTJPLpbfZwdTkM4RlkzWjRQaU0\n",
            "title: IMG_20160111_131001.jpg, id: 0ByTJPLpbfZwdN3JGOHoyLVFEQ2M\n",
            "title: IMG_20160111_143406.jpg, id: 0ByTJPLpbfZwdRW13VnNCMUIwcDQ\n",
            "title: IMG_20160111_143408.jpg, id: 0ByTJPLpbfZwdRTJwTXlpZmNtSWs\n",
            "title: IMG_20160111_143416.jpg, id: 0ByTJPLpbfZwdMEdxMzgzbnE4UW8\n",
            "title: IMG_20160111_114849.jpg, id: 0ByTJPLpbfZwdZXpVZFQ3ZXRLN1U\n",
            "title: 20160112_141734.jpg, id: 0ByTJPLpbfZwdMjZSbG5vcmF0WVE\n",
            "title: 20160112_141650.jpg, id: 0ByTJPLpbfZwdWnM2RzBlc0VKQ1U\n",
            "title: 20160112_141642.jpg, id: 0ByTJPLpbfZwdWEdDSG82dTV1MEU\n",
            "title: 20160112_141615.jpg, id: 0ByTJPLpbfZwdOGFiYTl0UGoyUzg\n",
            "title: 20160112_141640.jpg, id: 0ByTJPLpbfZwdN21HTGZLVXpuVVE\n",
            "title: 20160112_141655.jpg, id: 0ByTJPLpbfZwdeFdRRENpck1CT1k\n",
            "title: 20160112_141649.jpg, id: 0ByTJPLpbfZwdNkxKazdCbXVZU3c\n",
            "title: 20160112_141635.jpg, id: 0ByTJPLpbfZwdeHBhN2tTT2JueGM\n",
            "title: 20160112_141612.jpg, id: 0ByTJPLpbfZwdN2hKNkVvMkM3Mzg\n",
            "title: 20160112_141629.jpg, id: 0ByTJPLpbfZwda3FhNXIyQzdpODQ\n",
            "title: 20160112_141544.jpg, id: 0ByTJPLpbfZwddWc4NU9EbnJpU2s\n",
            "title: 20160112_141516.jpg, id: 0ByTJPLpbfZwdOE1NQkl4R3NER1U\n",
            "title: 20160112_141519.jpg, id: 0ByTJPLpbfZwdNXZKZ1BFenh5R1E\n",
            "title: 20160112_141540.jpg, id: 0ByTJPLpbfZwdR3dVVDRRakRsd0k\n",
            "title: 20160112_141513.jpg, id: 0ByTJPLpbfZwdMEhRWnV4bGVrMkk\n",
            "title: 20160112_140233.jpg, id: 0ByTJPLpbfZwdd1F0bDNTZWxyaUk\n",
            "title: 20160112_140114.jpg, id: 0ByTJPLpbfZwdSGJHT01uWE5IRnc\n",
            "title: 20160112_140112.jpg, id: 0ByTJPLpbfZwdN3Q3VFJzM0VnOVU\n",
            "title: 20160112_140055(1).jpg, id: 0ByTJPLpbfZwdaXNYZFlSbnZ4T0E\n",
            "title: 20160112_140054.jpg, id: 0ByTJPLpbfZwdb0pNaU1RaEhxTzg\n",
            "title: 20160112_140053.jpg, id: 0ByTJPLpbfZwdUnlMeldFV0NvNTg\n",
            "title: 20160112_140046.jpg, id: 0ByTJPLpbfZwdVHJmcjhPa3JhbjQ\n",
            "title: 20160112_135932.jpg, id: 0ByTJPLpbfZwdb3N3Smo1Y25qbDg\n",
            "title: 20160112_135918(0).jpg, id: 0ByTJPLpbfZwdUm9ialdob19hbFU\n",
            "title: 20160112_135914.jpg, id: 0ByTJPLpbfZwdUDZ0cG03TktPMTg\n",
            "title: 20160112_135918.jpg, id: 0ByTJPLpbfZwdLVN4X3pnS3VhNjA\n",
            "title: 20160112_135917.jpg, id: 0ByTJPLpbfZwdb0wwLWg5VWNmb0E\n",
            "title: 20160112_135852.jpg, id: 0ByTJPLpbfZwdcVdRY1prSUN3eTQ\n",
            "title: 20160112_135853.jpg, id: 0ByTJPLpbfZwda2ZtdV9peUNwVWM\n",
            "title: 20160112_135851.jpg, id: 0ByTJPLpbfZwdNHdsc0dxdjlQWlU\n",
            "title: IMG_20160103_165954.jpg, id: 0ByTJPLpbfZwddFRfOXRMeGZ5c0U\n",
            "title: 20160112_110507.jpg, id: 0ByTJPLpbfZwdVVVuZHpwVFB3SDA\n",
            "title: 20160112_110505.jpg, id: 0ByTJPLpbfZwdN0JqcVg3RHRpTEU\n",
            "title: 20160112_110459.jpg, id: 0ByTJPLpbfZwdVElMdzdFMWt2cjA\n",
            "title: 20160112_110506.jpg, id: 0ByTJPLpbfZwdX3kySGl4TkpCR1E\n",
            "title: 20160112_110501.jpg, id: 0ByTJPLpbfZwdNXYtNUNqbTR6TGc\n",
            "title: 20160112_110503.jpg, id: 0ByTJPLpbfZwddXBsSUltYUZPY1k\n",
            "title: 20160112_110458.jpg, id: 0ByTJPLpbfZwdd1NMSGxNc1Fyanc\n",
            "title: 20160112_110455.jpg, id: 0ByTJPLpbfZwdZGctdno5Mnlsems\n",
            "title: 20160112_110500.jpg, id: 0ByTJPLpbfZwdbHRUSmZ3X3Vyenc\n",
            "title: 20160112_110453.jpg, id: 0ByTJPLpbfZwdcXV4RWpGMDV3TTg\n",
            "title: 20160112_110441.jpg, id: 0ByTJPLpbfZwdakVhbzM3aHk3U2M\n",
            "title: 20160112_110457.jpg, id: 0ByTJPLpbfZwdbEZqcU9yLWR3aEE\n",
            "title: 20160112_110358.jpg, id: 0ByTJPLpbfZwdTDR5bGtfNTR4YXM\n",
            "title: 20160112_110430.jpg, id: 0ByTJPLpbfZwdTjJpb3U1aFNXQW8\n",
            "title: 20160111_154201.jpg, id: 0ByTJPLpbfZwdWnlHdE9maWo1aGs\n",
            "title: 20160111_154211.jpg, id: 0ByTJPLpbfZwdU0J3WGI0SlV3VFk\n",
            "title: 20160112_110428.jpg, id: 0ByTJPLpbfZwdd1NlRExKYWplQkU\n",
            "title: 20160112_110400.jpg, id: 0ByTJPLpbfZwdMk9nSy03Z1JzSzQ\n",
            "title: IMG_20160112_115248.jpg, id: 0ByTJPLpbfZwdZktRSHFWVUxyUDA\n",
            "title: 20160112_110400.jpg, id: 0ByTJPLpbfZwdaGJXMUFBOWdOSjA\n",
            "title: 20160111_110226.jpg, id: 0ByTJPLpbfZwdb1ROck9rR2pWNE0\n",
            "title: IMG-20150927-WA0000.jpg, id: 0ByTJPLpbfZwdUENIS1ZBS3ZjejQ\n",
            "title: 2.jpg, id: 0ByTJPLpbfZwdWk15VmhsRGc5OEU\n",
            "title: 15.jpg, id: 0ByTJPLpbfZwdZWViZDF1WHZYdFk\n",
            "title: 1.jpg, id: 0ByTJPLpbfZwdcDJoejhMVFNna0U\n",
            "title: 3.jpg, id: 0ByTJPLpbfZwdX1k2M2c4ejE1T00\n",
            "title: 1419766_541018635981246_714381805_n.jpg, id: 0ByTJPLpbfZwdcllFaFBWMVloZzA\n",
            "title: 1507917_480059995449486_107784096_n.jpg, id: 0ByTJPLpbfZwdY0h1NHN1YnN6SzA\n",
            "title: 7.jpg, id: 0ByTJPLpbfZwdekliNy04cElhZTA\n",
            "title: 4.jpg, id: 0ByTJPLpbfZwdMDNvRkxCaTV6akU\n",
            "title: 8.jpg, id: 0ByTJPLpbfZwdZFhTZEZIMFdWTjg\n",
            "title: 6.jpg, id: 0ByTJPLpbfZwdNmJ0M1JWVllmVnM\n",
            "title: IMG-20151018-WA0000.jpg, id: 0ByTJPLpbfZwdQ0F4clFJYjdsNmc\n",
            "title: IMG-20150107-WA0002.jpg, id: 0ByTJPLpbfZwddmNTVi1WdzJPUkU\n",
            "title: IMG-20150307-WA0008.jpg, id: 0ByTJPLpbfZwdVFluUk1kOXJJTnc\n",
            "title: IMG-20150309-WA0003.jpg, id: 0ByTJPLpbfZwdbmFIX1VMVXhIaUU\n",
            "title: IMG-20151109-WA0000.jpg, id: 0ByTJPLpbfZwdMnAxQlRJQXZISXM\n",
            "title: IMG-20151109-WA0005.jpg, id: 0ByTJPLpbfZwdM0dJdFFzMm9kRUE\n",
            "title: IMG-20151109-WA0004.jpg, id: 0ByTJPLpbfZwdRC1HODBwWUlEcHM\n",
            "title: IMG-20151109-WA0006.jpg, id: 0ByTJPLpbfZwdU1R3bk4ySVl1b0U\n",
            "title: IMG-20151117-WA0016.jpg, id: 0ByTJPLpbfZwdOUFQZHEwdkY2RkU\n",
            "title: 20150509_142742.jpg, id: 0ByTJPLpbfZwddDdLc3dJTEJseW8\n",
            "title: 20150509_142742.jpg, id: 0ByTJPLpbfZwdX3BBUzN5MExYR1E\n",
            "title: 20150509_143614.jpg, id: 0ByTJPLpbfZwdM3hEZlhtdEJGYmc\n",
            "title: 20150509_142703.jpg, id: 0ByTJPLpbfZwdVmo4UVFIcGNfeUE\n",
            "title: IMG_20150509_164027.jpg, id: 0ByTJPLpbfZwdeGVhRWtjVS1EUkE\n",
            "title: IMG_20150121_172233.jpg, id: 0ByTJPLpbfZwdQXRJNDJkNXFaZWM\n",
            "title: My.jpeg, id: 0ByTJPLpbfZwdV0N0R0UyVXhvMUE\n",
            "title: Jaan.jpg, id: 0ByTJPLpbfZwdMGNnb0FpTllGblk\n",
            "title: 10420064_634405870009556_2969509420071010835_n.jpg, id: 0ByTJPLpbfZwdTXZCdGd2akViZW8\n",
            "title: 10403494_594274264028058_1644123343030533202_n.jpg, id: 0ByTJPLpbfZwdTjJwQnRzZkpySkk\n",
            "title: 544891_398364030285750_176394895_n.jpg, id: 0ByTJPLpbfZwdamthTXBFTmUwTzg\n",
            "title: 1507917_480059995449486_107784096_n.jpg, id: 0ByTJPLpbfZwdbjd0SWxGSDJ6THc\n",
            "title: 1982180_489077557881063_350664938_n.jpg, id: 0ByTJPLpbfZwdcktfeFdmMXNHZGc\n",
            "title: IMG_20150123_070642.jpg, id: 0ByTJPLpbfZwdMGYtMTdoZ1RxS1k\n",
            "title: 1526659_451860041602815_1360469346_n.jpg, id: 0ByTJPLpbfZwddWNGVWFFYUlqR3M\n",
            "title: 988423_489758824479603_1057871538_n.jpg, id: 0ByTJPLpbfZwdZElzYnZzTzVrR2s\n",
            "title: 10149284_489995351122617_20744635_n.jpg, id: 0ByTJPLpbfZwdS1huNXVPdi1nMkk\n",
            "title: 10151123_489997501122402_2136414787_n.jpg, id: 0ByTJPLpbfZwdTkkwQTBReWctTnc\n",
            "title: 10153571_489996991122453_1184812630_n.jpg, id: 0ByTJPLpbfZwdWHVZTTZVUnkwRzg\n",
            "title: 10168507_489996281122524_2048202670_n.jpg, id: 0ByTJPLpbfZwdbXpNb3l3eUVQckk\n",
            "title: 1526232_451854888269997_1028712728_n.jpg, id: 0ByTJPLpbfZwdbjFLaXA2MEJoeUE\n",
            "title: 1009853_487482354707250_1115690504_n.jpg, id: 0ByTJPLpbfZwdSV9uX3ZvSWkwQ1E\n",
            "title: IMG-20150108-WA0001.jpg, id: 0ByTJPLpbfZwdRUpQYUpOeXBodjQ\n",
            "title: IMG-20150108-WA0000.jpg, id: 0ByTJPLpbfZwdZ1BiLUlrYVVULWc\n",
            "title: IMG-20150108-WA0003.jpg, id: 0ByTJPLpbfZwdaVlqV1FiT2JYWkE\n",
            "title: IMG-20150208-WA0002.jpg, id: 0ByTJPLpbfZwdY2MyMTFkNlNvUVk\n",
            "title: IMG-20150208-WA0001.jpg, id: 0ByTJPLpbfZwdMGtVVHlVVHJpWTQ\n",
            "title: IMG-20150208-WA0000.jpg, id: 0ByTJPLpbfZwdVHc4TnVaTkZ3eTg\n",
            "title: IMG-20150208-WA0001.jpg, id: 0ByTJPLpbfZwdWDFzMENrbEtid3M\n",
            "title: 10168507_489996281122524_2048202670_n(1).jpg, id: 0ByTJPLpbfZwdVEFuS2p2WG55STg\n",
            "title: Photos, id: 0ByTJPLpbfZwdREpsV1FHaGJDZ28\n",
            "title: IMG_20150121_172243.jpg, id: 0ByTJPLpbfZwdXzk2NU9RaDRMMW8\n",
            "title: IMG_20150122_123728.jpg, id: 0ByTJPLpbfZwdYWZCbWM4RG5QdHM\n",
            "title: IMG_20150121_172239.jpg, id: 0ByTJPLpbfZwdZXVZVlRzVG84dnM\n",
            "title: IMG_20150121_172241.jpg, id: 0ByTJPLpbfZwdVzFYM2tMaWw3cXc\n",
            "title: IMG_20150121_172244.jpg, id: 0ByTJPLpbfZwdcll2MG5MYXJIdTg\n",
            "title: IMG_20150121_172233.jpg, id: 0ByTJPLpbfZwddi1SWmZDMkVfWWc\n",
            "title: IMG_20150121_164624.jpg, id: 0ByTJPLpbfZwdYURzS2xURlBqMlU\n",
            "title: IMG_20150121_164624.jpg, id: 0ByTJPLpbfZwdaVUtRzFoR1BxcE0\n",
            "title: IMG_20150121_164624.jpg, id: 0ByTJPLpbfZwda1haZG9DeEhaZ0E\n",
            "title: IMG_20150121_172124.jpg, id: 0ByTJPLpbfZwdN25QQ19ldTh3X3c\n",
            "title: IMG_20150121_164352.jpg, id: 0ByTJPLpbfZwdaUttUGp6TFhLaHM\n"
          ],
          "name": "stdout"
        }
      ]
    },
    {
      "cell_type": "code",
      "metadata": {
        "id": "dyQM0i1i_TJB",
        "colab_type": "code",
        "colab": {}
      },
      "source": [
        "downloaded = drive.CreateFile({'id': '1vLfS_gvGGSPF0WRaZiIkphKG9cfDqCmy'})\n",
        "downloaded.GetContentFile('Tags.csv')"
      ],
      "execution_count": 0,
      "outputs": []
    },
    {
      "cell_type": "code",
      "metadata": {
        "id": "gxkQH5GO_Xt3",
        "colab_type": "code",
        "colab": {}
      },
      "source": [
        "downloaded1 = drive.CreateFile({'id': '1gMLHGvu9g_cjCjanHuSi2mXiu9CKxDJt'})\n",
        "downloaded1.GetContentFile('Questions.csv')"
      ],
      "execution_count": 0,
      "outputs": []
    },
    {
      "cell_type": "code",
      "metadata": {
        "id": "WCnRbd9Q_aMV",
        "colab_type": "code",
        "colab": {}
      },
      "source": [
        "import os"
      ],
      "execution_count": 0,
      "outputs": []
    },
    {
      "cell_type": "code",
      "metadata": {
        "id": "YjZnXJW6_hoy",
        "colab_type": "code",
        "outputId": "c6bebfb3-38a1-4dad-92d2-21332576af8b",
        "colab": {
          "base_uri": "https://localhost:8080/",
          "height": 34
        }
      },
      "source": [
        "\n",
        "os.listdir()"
      ],
      "execution_count": 0,
      "outputs": [
        {
          "output_type": "execute_result",
          "data": {
            "text/plain": [
              "['.config', 'Questions.csv', 'adc.json', 'Tags.csv', 'sample_data']"
            ]
          },
          "metadata": {
            "tags": []
          },
          "execution_count": 9
        }
      ]
    },
    {
      "cell_type": "code",
      "metadata": {
        "id": "LyzGP_zi_joG",
        "colab_type": "code",
        "colab": {}
      },
      "source": [
        "import warnings\n",
        "warnings.filterwarnings('ignore')"
      ],
      "execution_count": 0,
      "outputs": []
    },
    {
      "cell_type": "code",
      "metadata": {
        "id": "mpFYxEf4_lnp",
        "colab_type": "code",
        "colab": {}
      },
      "source": [
        "import numpy as np\n",
        "import pandas as pd"
      ],
      "execution_count": 0,
      "outputs": []
    },
    {
      "cell_type": "code",
      "metadata": {
        "id": "IkLO3mRN_o5n",
        "colab_type": "code",
        "colab": {}
      },
      "source": [
        "file=r'Tags.csv'\n",
        "\n",
        "tags=pd.read_csv(file)"
      ],
      "execution_count": 0,
      "outputs": []
    },
    {
      "cell_type": "code",
      "metadata": {
        "id": "U5j7UGt0_rNE",
        "colab_type": "code",
        "outputId": "d4f6fd94-b6c4-4da4-b690-069d28d21049",
        "colab": {
          "base_uri": "https://localhost:8080/",
          "height": 204
        }
      },
      "source": [
        "tags.head()"
      ],
      "execution_count": 0,
      "outputs": [
        {
          "output_type": "execute_result",
          "data": {
            "text/html": [
              "<div>\n",
              "<style scoped>\n",
              "    .dataframe tbody tr th:only-of-type {\n",
              "        vertical-align: middle;\n",
              "    }\n",
              "\n",
              "    .dataframe tbody tr th {\n",
              "        vertical-align: top;\n",
              "    }\n",
              "\n",
              "    .dataframe thead th {\n",
              "        text-align: right;\n",
              "    }\n",
              "</style>\n",
              "<table border=\"1\" class=\"dataframe\">\n",
              "  <thead>\n",
              "    <tr style=\"text-align: right;\">\n",
              "      <th></th>\n",
              "      <th>Id</th>\n",
              "      <th>Tag</th>\n",
              "    </tr>\n",
              "  </thead>\n",
              "  <tbody>\n",
              "    <tr>\n",
              "      <th>0</th>\n",
              "      <td>80</td>\n",
              "      <td>flex</td>\n",
              "    </tr>\n",
              "    <tr>\n",
              "      <th>1</th>\n",
              "      <td>80</td>\n",
              "      <td>actionscript-3</td>\n",
              "    </tr>\n",
              "    <tr>\n",
              "      <th>2</th>\n",
              "      <td>80</td>\n",
              "      <td>air</td>\n",
              "    </tr>\n",
              "    <tr>\n",
              "      <th>3</th>\n",
              "      <td>90</td>\n",
              "      <td>svn</td>\n",
              "    </tr>\n",
              "    <tr>\n",
              "      <th>4</th>\n",
              "      <td>90</td>\n",
              "      <td>tortoisesvn</td>\n",
              "    </tr>\n",
              "  </tbody>\n",
              "</table>\n",
              "</div>"
            ],
            "text/plain": [
              "   Id             Tag\n",
              "0  80            flex\n",
              "1  80  actionscript-3\n",
              "2  80             air\n",
              "3  90             svn\n",
              "4  90     tortoisesvn"
            ]
          },
          "metadata": {
            "tags": []
          },
          "execution_count": 13
        }
      ]
    },
    {
      "cell_type": "code",
      "metadata": {
        "id": "Dajc93BI_tpM",
        "colab_type": "code",
        "colab": {}
      },
      "source": [
        "file1=r'Questions.csv'\n",
        "\n",
        "Questions=pd.read_csv(file1, encoding=\"ISO-8859-1\")"
      ],
      "execution_count": 0,
      "outputs": []
    },
    {
      "cell_type": "code",
      "metadata": {
        "id": "-qxOn2da_vj9",
        "colab_type": "code",
        "outputId": "abbef809-f668-4585-a118-ab0d0fc4b823",
        "colab": {
          "base_uri": "https://localhost:8080/",
          "height": 204
        }
      },
      "source": [
        "Questions.head()"
      ],
      "execution_count": 0,
      "outputs": [
        {
          "output_type": "execute_result",
          "data": {
            "text/html": [
              "<div>\n",
              "<style scoped>\n",
              "    .dataframe tbody tr th:only-of-type {\n",
              "        vertical-align: middle;\n",
              "    }\n",
              "\n",
              "    .dataframe tbody tr th {\n",
              "        vertical-align: top;\n",
              "    }\n",
              "\n",
              "    .dataframe thead th {\n",
              "        text-align: right;\n",
              "    }\n",
              "</style>\n",
              "<table border=\"1\" class=\"dataframe\">\n",
              "  <thead>\n",
              "    <tr style=\"text-align: right;\">\n",
              "      <th></th>\n",
              "      <th>Id</th>\n",
              "      <th>OwnerUserId</th>\n",
              "      <th>CreationDate</th>\n",
              "      <th>ClosedDate</th>\n",
              "      <th>Score</th>\n",
              "      <th>Title</th>\n",
              "      <th>Body</th>\n",
              "    </tr>\n",
              "  </thead>\n",
              "  <tbody>\n",
              "    <tr>\n",
              "      <th>0</th>\n",
              "      <td>80</td>\n",
              "      <td>26.0</td>\n",
              "      <td>2008-08-01T13:57:07Z</td>\n",
              "      <td>NaN</td>\n",
              "      <td>26</td>\n",
              "      <td>SQLStatement.execute() - multiple queries in o...</td>\n",
              "      <td>&lt;p&gt;I've written a database generation script i...</td>\n",
              "    </tr>\n",
              "    <tr>\n",
              "      <th>1</th>\n",
              "      <td>90</td>\n",
              "      <td>58.0</td>\n",
              "      <td>2008-08-01T14:41:24Z</td>\n",
              "      <td>2012-12-26T03:45:49Z</td>\n",
              "      <td>144</td>\n",
              "      <td>Good branching and merging tutorials for Torto...</td>\n",
              "      <td>&lt;p&gt;Are there any really good tutorials explain...</td>\n",
              "    </tr>\n",
              "    <tr>\n",
              "      <th>2</th>\n",
              "      <td>120</td>\n",
              "      <td>83.0</td>\n",
              "      <td>2008-08-01T15:50:08Z</td>\n",
              "      <td>NaN</td>\n",
              "      <td>21</td>\n",
              "      <td>ASP.NET Site Maps</td>\n",
              "      <td>&lt;p&gt;Has anyone got experience creating &lt;strong&gt;...</td>\n",
              "    </tr>\n",
              "    <tr>\n",
              "      <th>3</th>\n",
              "      <td>180</td>\n",
              "      <td>2089740.0</td>\n",
              "      <td>2008-08-01T18:42:19Z</td>\n",
              "      <td>NaN</td>\n",
              "      <td>53</td>\n",
              "      <td>Function for creating color wheels</td>\n",
              "      <td>&lt;p&gt;This is something I've pseudo-solved many t...</td>\n",
              "    </tr>\n",
              "    <tr>\n",
              "      <th>4</th>\n",
              "      <td>260</td>\n",
              "      <td>91.0</td>\n",
              "      <td>2008-08-01T23:22:08Z</td>\n",
              "      <td>NaN</td>\n",
              "      <td>49</td>\n",
              "      <td>Adding scripting functionality to .NET applica...</td>\n",
              "      <td>&lt;p&gt;I have a little game written in C#. It uses...</td>\n",
              "    </tr>\n",
              "  </tbody>\n",
              "</table>\n",
              "</div>"
            ],
            "text/plain": [
              "    Id  ...                                               Body\n",
              "0   80  ...  <p>I've written a database generation script i...\n",
              "1   90  ...  <p>Are there any really good tutorials explain...\n",
              "2  120  ...  <p>Has anyone got experience creating <strong>...\n",
              "3  180  ...  <p>This is something I've pseudo-solved many t...\n",
              "4  260  ...  <p>I have a little game written in C#. It uses...\n",
              "\n",
              "[5 rows x 7 columns]"
            ]
          },
          "metadata": {
            "tags": []
          },
          "execution_count": 15
        }
      ]
    },
    {
      "cell_type": "code",
      "metadata": {
        "id": "AvCTBoTA_x2K",
        "colab_type": "code",
        "colab": {}
      },
      "source": [
        "tags['Tag'] = tags['Tag'].astype(str)"
      ],
      "execution_count": 0,
      "outputs": []
    },
    {
      "cell_type": "code",
      "metadata": {
        "id": "rmiFHzyY_0zi",
        "colab_type": "code",
        "colab": {}
      },
      "source": [
        "tags_grouped=tags.groupby('Id')['Tag'].apply(lambda tags: ' '.join(tags))"
      ],
      "execution_count": 0,
      "outputs": []
    },
    {
      "cell_type": "code",
      "metadata": {
        "id": "ffY4yJ2m_3-_",
        "colab_type": "code",
        "outputId": "a4eafcc6-883f-423d-926e-8ec0488c0cea",
        "colab": {
          "base_uri": "https://localhost:8080/",
          "height": 419
        }
      },
      "source": [
        "\n",
        "tags_grouped.reset_index()"
      ],
      "execution_count": 0,
      "outputs": [
        {
          "output_type": "execute_result",
          "data": {
            "text/html": [
              "<div>\n",
              "<style scoped>\n",
              "    .dataframe tbody tr th:only-of-type {\n",
              "        vertical-align: middle;\n",
              "    }\n",
              "\n",
              "    .dataframe tbody tr th {\n",
              "        vertical-align: top;\n",
              "    }\n",
              "\n",
              "    .dataframe thead th {\n",
              "        text-align: right;\n",
              "    }\n",
              "</style>\n",
              "<table border=\"1\" class=\"dataframe\">\n",
              "  <thead>\n",
              "    <tr style=\"text-align: right;\">\n",
              "      <th></th>\n",
              "      <th>Id</th>\n",
              "      <th>Tag</th>\n",
              "    </tr>\n",
              "  </thead>\n",
              "  <tbody>\n",
              "    <tr>\n",
              "      <th>0</th>\n",
              "      <td>80</td>\n",
              "      <td>flex actionscript-3 air</td>\n",
              "    </tr>\n",
              "    <tr>\n",
              "      <th>1</th>\n",
              "      <td>90</td>\n",
              "      <td>svn tortoisesvn branch branching-and-merging</td>\n",
              "    </tr>\n",
              "    <tr>\n",
              "      <th>2</th>\n",
              "      <td>120</td>\n",
              "      <td>sql asp.net sitemap</td>\n",
              "    </tr>\n",
              "    <tr>\n",
              "      <th>3</th>\n",
              "      <td>180</td>\n",
              "      <td>algorithm language-agnostic colors color-space</td>\n",
              "    </tr>\n",
              "    <tr>\n",
              "      <th>4</th>\n",
              "      <td>260</td>\n",
              "      <td>c# .net scripting compiler-construction</td>\n",
              "    </tr>\n",
              "    <tr>\n",
              "      <th>...</th>\n",
              "      <td>...</td>\n",
              "      <td>...</td>\n",
              "    </tr>\n",
              "    <tr>\n",
              "      <th>1264211</th>\n",
              "      <td>40143210</td>\n",
              "      <td>php .htaccess</td>\n",
              "    </tr>\n",
              "    <tr>\n",
              "      <th>1264212</th>\n",
              "      <td>40143300</td>\n",
              "      <td>google-bigquery</td>\n",
              "    </tr>\n",
              "    <tr>\n",
              "      <th>1264213</th>\n",
              "      <td>40143340</td>\n",
              "      <td>android android-studio</td>\n",
              "    </tr>\n",
              "    <tr>\n",
              "      <th>1264214</th>\n",
              "      <td>40143360</td>\n",
              "      <td>javascript vue.js</td>\n",
              "    </tr>\n",
              "    <tr>\n",
              "      <th>1264215</th>\n",
              "      <td>40143380</td>\n",
              "      <td>npm mocha babel</td>\n",
              "    </tr>\n",
              "  </tbody>\n",
              "</table>\n",
              "<p>1264216 rows × 2 columns</p>\n",
              "</div>"
            ],
            "text/plain": [
              "               Id                                             Tag\n",
              "0              80                         flex actionscript-3 air\n",
              "1              90    svn tortoisesvn branch branching-and-merging\n",
              "2             120                             sql asp.net sitemap\n",
              "3             180  algorithm language-agnostic colors color-space\n",
              "4             260         c# .net scripting compiler-construction\n",
              "...           ...                                             ...\n",
              "1264211  40143210                                   php .htaccess\n",
              "1264212  40143300                                 google-bigquery\n",
              "1264213  40143340                          android android-studio\n",
              "1264214  40143360                               javascript vue.js\n",
              "1264215  40143380                                 npm mocha babel\n",
              "\n",
              "[1264216 rows x 2 columns]"
            ]
          },
          "metadata": {
            "tags": []
          },
          "execution_count": 18
        }
      ]
    },
    {
      "cell_type": "code",
      "metadata": {
        "id": "6YsppX8s_8kR",
        "colab_type": "code",
        "colab": {}
      },
      "source": [
        "tags_grouped_final=pd.DataFrame({'Id':tags_grouped.index, 'Tags':tags_grouped.values})"
      ],
      "execution_count": 0,
      "outputs": []
    },
    {
      "cell_type": "code",
      "metadata": {
        "id": "anoEKy_F_9Mk",
        "colab_type": "code",
        "outputId": "824210c8-2985-4f1e-88f4-b5871170d178",
        "colab": {
          "base_uri": "https://localhost:8080/",
          "height": 204
        }
      },
      "source": [
        "tags_grouped_final.head()"
      ],
      "execution_count": 0,
      "outputs": [
        {
          "output_type": "execute_result",
          "data": {
            "text/html": [
              "<div>\n",
              "<style scoped>\n",
              "    .dataframe tbody tr th:only-of-type {\n",
              "        vertical-align: middle;\n",
              "    }\n",
              "\n",
              "    .dataframe tbody tr th {\n",
              "        vertical-align: top;\n",
              "    }\n",
              "\n",
              "    .dataframe thead th {\n",
              "        text-align: right;\n",
              "    }\n",
              "</style>\n",
              "<table border=\"1\" class=\"dataframe\">\n",
              "  <thead>\n",
              "    <tr style=\"text-align: right;\">\n",
              "      <th></th>\n",
              "      <th>Id</th>\n",
              "      <th>Tags</th>\n",
              "    </tr>\n",
              "  </thead>\n",
              "  <tbody>\n",
              "    <tr>\n",
              "      <th>0</th>\n",
              "      <td>80</td>\n",
              "      <td>flex actionscript-3 air</td>\n",
              "    </tr>\n",
              "    <tr>\n",
              "      <th>1</th>\n",
              "      <td>90</td>\n",
              "      <td>svn tortoisesvn branch branching-and-merging</td>\n",
              "    </tr>\n",
              "    <tr>\n",
              "      <th>2</th>\n",
              "      <td>120</td>\n",
              "      <td>sql asp.net sitemap</td>\n",
              "    </tr>\n",
              "    <tr>\n",
              "      <th>3</th>\n",
              "      <td>180</td>\n",
              "      <td>algorithm language-agnostic colors color-space</td>\n",
              "    </tr>\n",
              "    <tr>\n",
              "      <th>4</th>\n",
              "      <td>260</td>\n",
              "      <td>c# .net scripting compiler-construction</td>\n",
              "    </tr>\n",
              "  </tbody>\n",
              "</table>\n",
              "</div>"
            ],
            "text/plain": [
              "    Id                                            Tags\n",
              "0   80                         flex actionscript-3 air\n",
              "1   90    svn tortoisesvn branch branching-and-merging\n",
              "2  120                             sql asp.net sitemap\n",
              "3  180  algorithm language-agnostic colors color-space\n",
              "4  260         c# .net scripting compiler-construction"
            ]
          },
          "metadata": {
            "tags": []
          },
          "execution_count": 20
        }
      ]
    },
    {
      "cell_type": "markdown",
      "metadata": {
        "id": "ySxPH0UsADSa",
        "colab_type": "text"
      },
      "source": [
        "Dropping OwnerUserId, CreationDate and Closingdate from Questions.csv"
      ]
    },
    {
      "cell_type": "code",
      "metadata": {
        "id": "4qqk7VbPAFdT",
        "colab_type": "code",
        "colab": {}
      },
      "source": [
        "Questions.drop(columns=['OwnerUserId', 'CreationDate', 'ClosedDate'],inplace=True)"
      ],
      "execution_count": 0,
      "outputs": []
    },
    {
      "cell_type": "code",
      "metadata": {
        "id": "gE5eX6mqAJcV",
        "colab_type": "code",
        "colab": {}
      },
      "source": [
        "Questions=Questions.merge(tags_grouped_final,on='Id')"
      ],
      "execution_count": 0,
      "outputs": []
    },
    {
      "cell_type": "code",
      "metadata": {
        "id": "WOW-5wZ0AKiO",
        "colab_type": "code",
        "outputId": "21b59db8-8340-421f-9381-761c31666340",
        "colab": {
          "base_uri": "https://localhost:8080/",
          "height": 204
        }
      },
      "source": [
        "\n",
        "Questions.head()"
      ],
      "execution_count": 0,
      "outputs": [
        {
          "output_type": "execute_result",
          "data": {
            "text/html": [
              "<div>\n",
              "<style scoped>\n",
              "    .dataframe tbody tr th:only-of-type {\n",
              "        vertical-align: middle;\n",
              "    }\n",
              "\n",
              "    .dataframe tbody tr th {\n",
              "        vertical-align: top;\n",
              "    }\n",
              "\n",
              "    .dataframe thead th {\n",
              "        text-align: right;\n",
              "    }\n",
              "</style>\n",
              "<table border=\"1\" class=\"dataframe\">\n",
              "  <thead>\n",
              "    <tr style=\"text-align: right;\">\n",
              "      <th></th>\n",
              "      <th>Id</th>\n",
              "      <th>Score</th>\n",
              "      <th>Title</th>\n",
              "      <th>Body</th>\n",
              "      <th>Tags</th>\n",
              "    </tr>\n",
              "  </thead>\n",
              "  <tbody>\n",
              "    <tr>\n",
              "      <th>0</th>\n",
              "      <td>80</td>\n",
              "      <td>26</td>\n",
              "      <td>SQLStatement.execute() - multiple queries in o...</td>\n",
              "      <td>&lt;p&gt;I've written a database generation script i...</td>\n",
              "      <td>flex actionscript-3 air</td>\n",
              "    </tr>\n",
              "    <tr>\n",
              "      <th>1</th>\n",
              "      <td>90</td>\n",
              "      <td>144</td>\n",
              "      <td>Good branching and merging tutorials for Torto...</td>\n",
              "      <td>&lt;p&gt;Are there any really good tutorials explain...</td>\n",
              "      <td>svn tortoisesvn branch branching-and-merging</td>\n",
              "    </tr>\n",
              "    <tr>\n",
              "      <th>2</th>\n",
              "      <td>120</td>\n",
              "      <td>21</td>\n",
              "      <td>ASP.NET Site Maps</td>\n",
              "      <td>&lt;p&gt;Has anyone got experience creating &lt;strong&gt;...</td>\n",
              "      <td>sql asp.net sitemap</td>\n",
              "    </tr>\n",
              "    <tr>\n",
              "      <th>3</th>\n",
              "      <td>180</td>\n",
              "      <td>53</td>\n",
              "      <td>Function for creating color wheels</td>\n",
              "      <td>&lt;p&gt;This is something I've pseudo-solved many t...</td>\n",
              "      <td>algorithm language-agnostic colors color-space</td>\n",
              "    </tr>\n",
              "    <tr>\n",
              "      <th>4</th>\n",
              "      <td>260</td>\n",
              "      <td>49</td>\n",
              "      <td>Adding scripting functionality to .NET applica...</td>\n",
              "      <td>&lt;p&gt;I have a little game written in C#. It uses...</td>\n",
              "      <td>c# .net scripting compiler-construction</td>\n",
              "    </tr>\n",
              "  </tbody>\n",
              "</table>\n",
              "</div>"
            ],
            "text/plain": [
              "    Id  ...                                            Tags\n",
              "0   80  ...                         flex actionscript-3 air\n",
              "1   90  ...    svn tortoisesvn branch branching-and-merging\n",
              "2  120  ...                             sql asp.net sitemap\n",
              "3  180  ...  algorithm language-agnostic colors color-space\n",
              "4  260  ...         c# .net scripting compiler-construction\n",
              "\n",
              "[5 rows x 5 columns]"
            ]
          },
          "metadata": {
            "tags": []
          },
          "execution_count": 23
        }
      ]
    },
    {
      "cell_type": "markdown",
      "metadata": {
        "id": "NjEt151NA7Hy",
        "colab_type": "text"
      },
      "source": [
        "I'll take only quesions witha score greater than 5.The posts will probably be with a better quality and will be better tagged since they have lots of upvotes."
      ]
    },
    {
      "cell_type": "code",
      "metadata": {
        "id": "O72ZlDlJAP78",
        "colab_type": "code",
        "colab": {}
      },
      "source": [
        "Question=Questions[Questions['Score']>5]"
      ],
      "execution_count": 0,
      "outputs": []
    },
    {
      "cell_type": "code",
      "metadata": {
        "id": "V1AZWm2yATNX",
        "colab_type": "code",
        "outputId": "77b1db7e-b5c4-4c12-84df-b34974fe07df",
        "colab": {
          "base_uri": "https://localhost:8080/",
          "height": 119
        }
      },
      "source": [
        "Question.isnull().sum()"
      ],
      "execution_count": 0,
      "outputs": [
        {
          "output_type": "execute_result",
          "data": {
            "text/plain": [
              "Id       0\n",
              "Score    0\n",
              "Title    0\n",
              "Body     0\n",
              "Tags     0\n",
              "dtype: int64"
            ]
          },
          "metadata": {
            "tags": []
          },
          "execution_count": 25
        }
      ]
    },
    {
      "cell_type": "code",
      "metadata": {
        "id": "EfqnyFJ_AVcn",
        "colab_type": "code",
        "colab": {}
      },
      "source": [
        "\n",
        "Question.drop(columns=['Id','Score'],inplace=True)"
      ],
      "execution_count": 0,
      "outputs": []
    },
    {
      "cell_type": "code",
      "metadata": {
        "id": "F8ZnUcY4AYpz",
        "colab_type": "code",
        "outputId": "d162a538-c1dc-44dc-bb79-6aec03ee1942",
        "colab": {
          "base_uri": "https://localhost:8080/",
          "height": 34
        }
      },
      "source": [
        "Question.shape"
      ],
      "execution_count": 0,
      "outputs": [
        {
          "output_type": "execute_result",
          "data": {
            "text/plain": [
              "(72950, 3)"
            ]
          },
          "metadata": {
            "tags": []
          },
          "execution_count": 27
        }
      ]
    },
    {
      "cell_type": "code",
      "metadata": {
        "id": "pDYEcXSxAbGf",
        "colab_type": "code",
        "colab": {}
      },
      "source": [
        "Question['Tags']=Question['Tags'].apply(lambda x: x.split())"
      ],
      "execution_count": 0,
      "outputs": []
    },
    {
      "cell_type": "code",
      "metadata": {
        "id": "9WQuAn-OAdc8",
        "colab_type": "code",
        "outputId": "87957922-6a4e-4c2a-8b1c-4049f7915425",
        "colab": {
          "base_uri": "https://localhost:8080/",
          "height": 204
        }
      },
      "source": [
        "Question.head()"
      ],
      "execution_count": 0,
      "outputs": [
        {
          "output_type": "execute_result",
          "data": {
            "text/html": [
              "<div>\n",
              "<style scoped>\n",
              "    .dataframe tbody tr th:only-of-type {\n",
              "        vertical-align: middle;\n",
              "    }\n",
              "\n",
              "    .dataframe tbody tr th {\n",
              "        vertical-align: top;\n",
              "    }\n",
              "\n",
              "    .dataframe thead th {\n",
              "        text-align: right;\n",
              "    }\n",
              "</style>\n",
              "<table border=\"1\" class=\"dataframe\">\n",
              "  <thead>\n",
              "    <tr style=\"text-align: right;\">\n",
              "      <th></th>\n",
              "      <th>Title</th>\n",
              "      <th>Body</th>\n",
              "      <th>Tags</th>\n",
              "    </tr>\n",
              "  </thead>\n",
              "  <tbody>\n",
              "    <tr>\n",
              "      <th>0</th>\n",
              "      <td>SQLStatement.execute() - multiple queries in o...</td>\n",
              "      <td>&lt;p&gt;I've written a database generation script i...</td>\n",
              "      <td>[flex, actionscript-3, air]</td>\n",
              "    </tr>\n",
              "    <tr>\n",
              "      <th>1</th>\n",
              "      <td>Good branching and merging tutorials for Torto...</td>\n",
              "      <td>&lt;p&gt;Are there any really good tutorials explain...</td>\n",
              "      <td>[svn, tortoisesvn, branch, branching-and-merging]</td>\n",
              "    </tr>\n",
              "    <tr>\n",
              "      <th>2</th>\n",
              "      <td>ASP.NET Site Maps</td>\n",
              "      <td>&lt;p&gt;Has anyone got experience creating &lt;strong&gt;...</td>\n",
              "      <td>[sql, asp.net, sitemap]</td>\n",
              "    </tr>\n",
              "    <tr>\n",
              "      <th>3</th>\n",
              "      <td>Function for creating color wheels</td>\n",
              "      <td>&lt;p&gt;This is something I've pseudo-solved many t...</td>\n",
              "      <td>[algorithm, language-agnostic, colors, color-s...</td>\n",
              "    </tr>\n",
              "    <tr>\n",
              "      <th>4</th>\n",
              "      <td>Adding scripting functionality to .NET applica...</td>\n",
              "      <td>&lt;p&gt;I have a little game written in C#. It uses...</td>\n",
              "      <td>[c#, .net, scripting, compiler-construction]</td>\n",
              "    </tr>\n",
              "  </tbody>\n",
              "</table>\n",
              "</div>"
            ],
            "text/plain": [
              "                                               Title  ...                                               Tags\n",
              "0  SQLStatement.execute() - multiple queries in o...  ...                        [flex, actionscript-3, air]\n",
              "1  Good branching and merging tutorials for Torto...  ...  [svn, tortoisesvn, branch, branching-and-merging]\n",
              "2                                  ASP.NET Site Maps  ...                            [sql, asp.net, sitemap]\n",
              "3                 Function for creating color wheels  ...  [algorithm, language-agnostic, colors, color-s...\n",
              "4  Adding scripting functionality to .NET applica...  ...       [c#, .net, scripting, compiler-construction]\n",
              "\n",
              "[5 rows x 3 columns]"
            ]
          },
          "metadata": {
            "tags": []
          },
          "execution_count": 29
        }
      ]
    },
    {
      "cell_type": "code",
      "metadata": {
        "id": "flCxZvz5BD3f",
        "colab_type": "code",
        "colab": {}
      },
      "source": [
        "all_tags = [item for sublist in Question['Tags'].values for item in sublist]"
      ],
      "execution_count": 0,
      "outputs": []
    },
    {
      "cell_type": "code",
      "metadata": {
        "id": "B1GFJi9xBHWy",
        "colab_type": "code",
        "outputId": "d2395ef8-541f-408c-d73e-aa28129230aa",
        "colab": {
          "base_uri": "https://localhost:8080/",
          "height": 34
        }
      },
      "source": [
        "len(all_tags)"
      ],
      "execution_count": 0,
      "outputs": [
        {
          "output_type": "execute_result",
          "data": {
            "text/plain": [
              "224129"
            ]
          },
          "metadata": {
            "tags": []
          },
          "execution_count": 31
        }
      ]
    },
    {
      "cell_type": "code",
      "metadata": {
        "id": "AcXq2m_ZBJ1Q",
        "colab_type": "code",
        "outputId": "cb9454a0-6db6-4c21-8499-28468124a93a",
        "colab": {
          "base_uri": "https://localhost:8080/",
          "height": 34
        }
      },
      "source": [
        "my_set = set(all_tags)\n",
        "unique_tags = list(my_set)\n",
        "len(unique_tags)"
      ],
      "execution_count": 0,
      "outputs": [
        {
          "output_type": "execute_result",
          "data": {
            "text/plain": [
              "14883"
            ]
          },
          "metadata": {
            "tags": []
          },
          "execution_count": 32
        }
      ]
    },
    {
      "cell_type": "code",
      "metadata": {
        "id": "Y7CLVZriBMB2",
        "colab_type": "code",
        "colab": {}
      },
      "source": [
        "import nltk"
      ],
      "execution_count": 0,
      "outputs": []
    },
    {
      "cell_type": "code",
      "metadata": {
        "id": "asLjtJNPBO44",
        "colab_type": "code",
        "colab": {}
      },
      "source": [
        "flat_list = [item for sublist in Question['Tags'].values for item in sublist]\n",
        "\n",
        "keywords = nltk.FreqDist(flat_list)\n",
        "\n",
        "keywords = nltk.FreqDist(keywords)\n",
        "\n",
        "frequencies_words = keywords.most_common(100)\n",
        "tags_features = [word[0] for word in frequencies_words]"
      ],
      "execution_count": 0,
      "outputs": []
    },
    {
      "cell_type": "code",
      "metadata": {
        "id": "inTi-CxHBRLp",
        "colab_type": "code",
        "colab": {}
      },
      "source": [
        "def most_common(tags):\n",
        "    tags_filtered = []\n",
        "    for i in range(0, len(tags)):\n",
        "        if tags[i] in tags_features:\n",
        "            tags_filtered.append(tags[i])\n",
        "    return tags_filtered"
      ],
      "execution_count": 0,
      "outputs": []
    },
    {
      "cell_type": "code",
      "metadata": {
        "id": "IQ1HCbsoBTru",
        "colab_type": "code",
        "colab": {}
      },
      "source": [
        "Question['Tags'] = Question['Tags'].apply(lambda x: most_common(x))\n",
        "Question['Tags'] = Question['Tags'].apply(lambda x: x if len(x)>0 else None)"
      ],
      "execution_count": 0,
      "outputs": []
    },
    {
      "cell_type": "code",
      "metadata": {
        "id": "8v-q_Hh7BWEG",
        "colab_type": "code",
        "outputId": "8b09121d-613b-43cf-fef8-67ee7a041ec5",
        "colab": {
          "base_uri": "https://localhost:8080/",
          "height": 34
        }
      },
      "source": [
        "Question.shape"
      ],
      "execution_count": 0,
      "outputs": [
        {
          "output_type": "execute_result",
          "data": {
            "text/plain": [
              "(72950, 3)"
            ]
          },
          "metadata": {
            "tags": []
          },
          "execution_count": 37
        }
      ]
    },
    {
      "cell_type": "code",
      "metadata": {
        "id": "FuIwamfaBXu7",
        "colab_type": "code",
        "colab": {}
      },
      "source": [
        "Question.dropna(subset=['Tags'], inplace=True)"
      ],
      "execution_count": 0,
      "outputs": []
    },
    {
      "cell_type": "code",
      "metadata": {
        "id": "YATNzXRgBZ1B",
        "colab_type": "code",
        "outputId": "dd08f23b-7cb7-43a2-d9f6-21a0febf8006",
        "colab": {
          "base_uri": "https://localhost:8080/",
          "height": 34
        }
      },
      "source": [
        "Question.shape"
      ],
      "execution_count": 0,
      "outputs": [
        {
          "output_type": "execute_result",
          "data": {
            "text/plain": [
              "(63167, 3)"
            ]
          },
          "metadata": {
            "tags": []
          },
          "execution_count": 39
        }
      ]
    },
    {
      "cell_type": "code",
      "metadata": {
        "id": "Ev2XMrm5BcMR",
        "colab_type": "code",
        "colab": {}
      },
      "source": [
        "from bs4 import BeautifulSoup"
      ],
      "execution_count": 0,
      "outputs": []
    },
    {
      "cell_type": "code",
      "metadata": {
        "id": "C8iJAOdwBfz5",
        "colab_type": "code",
        "colab": {}
      },
      "source": [
        "Question['Body']=Question['Body'].apply(lambda x : BeautifulSoup(x).get_text())"
      ],
      "execution_count": 0,
      "outputs": []
    },
    {
      "cell_type": "code",
      "metadata": {
        "id": "FnrTUVZCBhYi",
        "colab_type": "code",
        "outputId": "0347d3d6-5d02-458a-b383-449a06106c4d",
        "colab": {
          "base_uri": "https://localhost:8080/",
          "height": 204
        }
      },
      "source": [
        "Question.head()"
      ],
      "execution_count": 0,
      "outputs": [
        {
          "output_type": "execute_result",
          "data": {
            "text/html": [
              "<div>\n",
              "<style scoped>\n",
              "    .dataframe tbody tr th:only-of-type {\n",
              "        vertical-align: middle;\n",
              "    }\n",
              "\n",
              "    .dataframe tbody tr th {\n",
              "        vertical-align: top;\n",
              "    }\n",
              "\n",
              "    .dataframe thead th {\n",
              "        text-align: right;\n",
              "    }\n",
              "</style>\n",
              "<table border=\"1\" class=\"dataframe\">\n",
              "  <thead>\n",
              "    <tr style=\"text-align: right;\">\n",
              "      <th></th>\n",
              "      <th>Title</th>\n",
              "      <th>Body</th>\n",
              "      <th>Tags</th>\n",
              "    </tr>\n",
              "  </thead>\n",
              "  <tbody>\n",
              "    <tr>\n",
              "      <th>1</th>\n",
              "      <td>Good branching and merging tutorials for Torto...</td>\n",
              "      <td>Are there any really good tutorials explaining...</td>\n",
              "      <td>[svn]</td>\n",
              "    </tr>\n",
              "    <tr>\n",
              "      <th>2</th>\n",
              "      <td>ASP.NET Site Maps</td>\n",
              "      <td>Has anyone got experience creating SQL-based A...</td>\n",
              "      <td>[sql, asp.net]</td>\n",
              "    </tr>\n",
              "    <tr>\n",
              "      <th>3</th>\n",
              "      <td>Function for creating color wheels</td>\n",
              "      <td>This is something I've pseudo-solved many time...</td>\n",
              "      <td>[algorithm]</td>\n",
              "    </tr>\n",
              "    <tr>\n",
              "      <th>4</th>\n",
              "      <td>Adding scripting functionality to .NET applica...</td>\n",
              "      <td>I have a little game written in C#. It uses a ...</td>\n",
              "      <td>[c#, .net]</td>\n",
              "    </tr>\n",
              "    <tr>\n",
              "      <th>5</th>\n",
              "      <td>Should I use nested classes in this case?</td>\n",
              "      <td>I am working on a collection of classes used f...</td>\n",
              "      <td>[c++, oop, class]</td>\n",
              "    </tr>\n",
              "  </tbody>\n",
              "</table>\n",
              "</div>"
            ],
            "text/plain": [
              "                                               Title  ...               Tags\n",
              "1  Good branching and merging tutorials for Torto...  ...              [svn]\n",
              "2                                  ASP.NET Site Maps  ...     [sql, asp.net]\n",
              "3                 Function for creating color wheels  ...        [algorithm]\n",
              "4  Adding scripting functionality to .NET applica...  ...         [c#, .net]\n",
              "5          Should I use nested classes in this case?  ...  [c++, oop, class]\n",
              "\n",
              "[5 rows x 3 columns]"
            ]
          },
          "metadata": {
            "tags": []
          },
          "execution_count": 42
        }
      ]
    },
    {
      "cell_type": "code",
      "metadata": {
        "id": "qKliFjJcGQ3G",
        "colab_type": "code",
        "outputId": "e214c696-2fdc-4e24-e4b4-dfb4f137c366",
        "colab": {
          "base_uri": "https://localhost:8080/",
          "height": 54
        }
      },
      "source": [
        "Question['Body'].iloc[3]"
      ],
      "execution_count": 0,
      "outputs": [
        {
          "output_type": "execute_result",
          "data": {
            "text/plain": [
              "\"I have a little game written in C#. It uses a database as back-end. It's \\na trading card game, and I wanted to implement the function of the cards as a script.\\nWhat I mean is that I essentially have an interface, ICard, which a card class implements (public class Card056 : ICard) and which contains function that are called by the game.\\nNow, to make the thing maintainable/moddable, I would like to have the class for each card as source code in the database and essentially compile it on first use. So when I have to add/change a card, I'll just add it to the database and tell my application to refresh, without needing any assembly deployment (especially since we would be talking about 1 assembly per card which means hundreds of assemblies).\\nIs that possible? Register a class from a source file and then instantiate it, etc.\\nICard Cards[current] = new MyGame.CardLibrary.Card056();\\nCards[current].OnEnterPlay(ref currentGameState);\\n\\nThe language is C#, but extra bonus if it's possible to write the script in any .NET language.\\n\""
            ]
          },
          "metadata": {
            "tags": []
          },
          "execution_count": 43
        }
      ]
    },
    {
      "cell_type": "code",
      "metadata": {
        "id": "sDR03EXgwXIw",
        "colab_type": "code",
        "colab": {}
      },
      "source": [
        "\n",
        "\n",
        "from nltk.stem.wordnet import WordNetLemmatizer\n",
        "from nltk.corpus import stopwords\n",
        "from string import punctuation\n",
        "from nltk.tokenize import ToktokTokenizer"
      ],
      "execution_count": 0,
      "outputs": []
    },
    {
      "cell_type": "code",
      "metadata": {
        "id": "rGcT3m1QT43Z",
        "colab_type": "code",
        "outputId": "f1b9f66a-3c5f-44d6-c1cf-88d1bb78b50d",
        "colab": {
          "base_uri": "https://localhost:8080/",
          "height": 68
        }
      },
      "source": [
        "import nltk\n",
        "nltk.download('punkt')"
      ],
      "execution_count": 0,
      "outputs": [
        {
          "output_type": "stream",
          "text": [
            "[nltk_data] Downloading package punkt to /root/nltk_data...\n",
            "[nltk_data]   Unzipping tokenizers/punkt.zip.\n"
          ],
          "name": "stdout"
        },
        {
          "output_type": "execute_result",
          "data": {
            "text/plain": [
              "True"
            ]
          },
          "metadata": {
            "tags": []
          },
          "execution_count": 45
        }
      ]
    },
    {
      "cell_type": "code",
      "metadata": {
        "id": "afITd0qRT84r",
        "colab_type": "code",
        "outputId": "9c4a1703-57c0-4c88-81b6-a15f061e10af",
        "colab": {
          "base_uri": "https://localhost:8080/",
          "height": 68
        }
      },
      "source": [
        "import nltk\n",
        "nltk.download('wordnet')"
      ],
      "execution_count": 0,
      "outputs": [
        {
          "output_type": "stream",
          "text": [
            "[nltk_data] Downloading package wordnet to /root/nltk_data...\n",
            "[nltk_data]   Unzipping corpora/wordnet.zip.\n"
          ],
          "name": "stdout"
        },
        {
          "output_type": "execute_result",
          "data": {
            "text/plain": [
              "True"
            ]
          },
          "metadata": {
            "tags": []
          },
          "execution_count": 46
        }
      ]
    },
    {
      "cell_type": "code",
      "metadata": {
        "id": "lwNbFwl0wqQ-",
        "colab_type": "code",
        "outputId": "1e550b52-5299-4050-b376-858f78c93c1f",
        "colab": {
          "base_uri": "https://localhost:8080/",
          "height": 68
        }
      },
      "source": [
        "import nltk\n",
        "nltk.download('punkt')"
      ],
      "execution_count": 0,
      "outputs": [
        {
          "output_type": "stream",
          "text": [
            "[nltk_data] Downloading package punkt to /root/nltk_data...\n",
            "[nltk_data]   Package punkt is already up-to-date!\n"
          ],
          "name": "stdout"
        },
        {
          "output_type": "execute_result",
          "data": {
            "text/plain": [
              "True"
            ]
          },
          "metadata": {
            "tags": []
          },
          "execution_count": 47
        }
      ]
    },
    {
      "cell_type": "code",
      "metadata": {
        "id": "2ynQvTAZxk0i",
        "colab_type": "code",
        "outputId": "29c3f3ab-5785-46eb-d6f9-452d6b79228c",
        "colab": {
          "base_uri": "https://localhost:8080/",
          "height": 68
        }
      },
      "source": [
        "import nltk\n",
        "nltk.download('stopwords')"
      ],
      "execution_count": 0,
      "outputs": [
        {
          "output_type": "stream",
          "text": [
            "[nltk_data] Downloading package stopwords to /root/nltk_data...\n",
            "[nltk_data]   Unzipping corpora/stopwords.zip.\n"
          ],
          "name": "stdout"
        },
        {
          "output_type": "execute_result",
          "data": {
            "text/plain": [
              "True"
            ]
          },
          "metadata": {
            "tags": []
          },
          "execution_count": 48
        }
      ]
    },
    {
      "cell_type": "code",
      "metadata": {
        "id": "qne0uw5lxmai",
        "colab_type": "code",
        "outputId": "db4aa31c-7dca-4c38-d3dd-04964555ffd5",
        "colab": {
          "base_uri": "https://localhost:8080/",
          "height": 68
        }
      },
      "source": [
        "import nltk\n",
        "nltk.download('wordnet')"
      ],
      "execution_count": 0,
      "outputs": [
        {
          "output_type": "stream",
          "text": [
            "[nltk_data] Downloading package wordnet to /root/nltk_data...\n",
            "[nltk_data]   Package wordnet is already up-to-date!\n"
          ],
          "name": "stdout"
        },
        {
          "output_type": "execute_result",
          "data": {
            "text/plain": [
              "True"
            ]
          },
          "metadata": {
            "tags": []
          },
          "execution_count": 49
        }
      ]
    },
    {
      "cell_type": "code",
      "metadata": {
        "id": "P4PfaJJsw-BI",
        "colab_type": "code",
        "colab": {}
      },
      "source": [
        "token=ToktokTokenizer()"
      ],
      "execution_count": 0,
      "outputs": []
    },
    {
      "cell_type": "code",
      "metadata": {
        "id": "iEN9knT6xDEU",
        "colab_type": "code",
        "colab": {}
      },
      "source": [
        "import re"
      ],
      "execution_count": 0,
      "outputs": []
    },
    {
      "cell_type": "code",
      "metadata": {
        "id": "qui7n3XnBEgr",
        "colab_type": "code",
        "outputId": "1703cd9e-176c-4afc-a6fa-76a2cb6907e8",
        "colab": {
          "base_uri": "https://localhost:8080/",
          "height": 34
        }
      },
      "source": [
        "punctuation"
      ],
      "execution_count": 0,
      "outputs": [
        {
          "output_type": "execute_result",
          "data": {
            "text/plain": [
              "'!\"#$%&\\'()*+,-./:;<=>?@[\\\\]^_`{|}~'"
            ]
          },
          "metadata": {
            "tags": []
          },
          "execution_count": 52
        }
      ]
    },
    {
      "cell_type": "code",
      "metadata": {
        "id": "WIHsYxEEwftj",
        "colab_type": "code",
        "colab": {}
      },
      "source": [
        "punct = '!#$%&\\'()*+,./:;<=>?@[\\\\]^_{|}~'"
      ],
      "execution_count": 0,
      "outputs": []
    },
    {
      "cell_type": "code",
      "metadata": {
        "id": "XICOl_pdwi8x",
        "colab_type": "code",
        "colab": {}
      },
      "source": [
        "def strip_list_noempty(mylist):\n",
        "    newlist = (item.strip() if hasattr(item, 'strip') else item for item in mylist)\n",
        "    return [item for item in newlist if item != '']"
      ],
      "execution_count": 0,
      "outputs": []
    },
    {
      "cell_type": "code",
      "metadata": {
        "id": "uA4fEgslwlvO",
        "colab_type": "code",
        "colab": {}
      },
      "source": [
        "def clean_punct(text): \n",
        "    words=token.tokenize(text)\n",
        "    punctuation_filtered = []\n",
        "    regex = re.compile('[%s]' % re.escape(punct))\n",
        "    remove_punctuation = str.maketrans(' ', ' ', punct)\n",
        "    for w in words:\n",
        "        if w in tags_features:\n",
        "            punctuation_filtered.append(w)\n",
        "        else:\n",
        "            punctuation_filtered.append(regex.sub('', w))\n",
        "  \n",
        "    filtered_list = strip_list_noempty(punctuation_filtered)\n",
        "        \n",
        "    return ' '.join(map(str, filtered_list))"
      ],
      "execution_count": 0,
      "outputs": []
    },
    {
      "cell_type": "code",
      "metadata": {
        "id": "UXHoDBCvxGsL",
        "colab_type": "code",
        "colab": {}
      },
      "source": [
        "Question['Body'] = Question['Body'].apply(lambda x: clean_punct(x))"
      ],
      "execution_count": 0,
      "outputs": []
    },
    {
      "cell_type": "code",
      "metadata": {
        "id": "PC6HfACKxNJK",
        "colab_type": "code",
        "colab": {}
      },
      "source": [
        "lemma=WordNetLemmatizer()\n",
        "stop_words = set(stopwords.words(\"english\"))"
      ],
      "execution_count": 0,
      "outputs": []
    },
    {
      "cell_type": "code",
      "metadata": {
        "id": "0v3K-d9DxYZq",
        "colab_type": "code",
        "colab": {}
      },
      "source": [
        "def lemitizeWords(text):\n",
        "    words=token.tokenize(text)\n",
        "    listLemma=[]\n",
        "    for w in words:\n",
        "        x=lemma.lemmatize(w, pos=\"v\")\n",
        "        listLemma.append(x)\n",
        "    return ' '.join(map(str, listLemma))\n",
        "\n",
        "def stopWordsRemove(text):\n",
        "    \n",
        "    stop_words = set(stopwords.words(\"english\"))\n",
        "    \n",
        "    words=token.tokenize(text)\n",
        "    \n",
        "    filtered = [w for w in words if not w in stop_words]\n",
        "    \n",
        "    return ' '.join(map(str, filtered))"
      ],
      "execution_count": 0,
      "outputs": []
    },
    {
      "cell_type": "code",
      "metadata": {
        "id": "EiMpOeSuxsXZ",
        "colab_type": "code",
        "colab": {}
      },
      "source": [
        "Question['Body'] = Question['Body'].apply(lambda x: lemitizeWords(x)) \n",
        "Question['Body'] = Question['Body'].apply(lambda x: stopWordsRemove(x))"
      ],
      "execution_count": 0,
      "outputs": []
    },
    {
      "cell_type": "code",
      "metadata": {
        "id": "b3L_vP0xxzQ2",
        "colab_type": "code",
        "colab": {}
      },
      "source": [
        "Question['Title'] = Question['Title'].apply(lambda x: clean_punct(x)) \n",
        "Question['Title'] = Question['Title'].apply(lambda x: lemitizeWords(x)) \n",
        "Question['Title'] = Question['Title'].apply(lambda x: stopWordsRemove(x))"
      ],
      "execution_count": 0,
      "outputs": []
    },
    {
      "cell_type": "code",
      "metadata": {
        "id": "vLzGXONNyOkl",
        "colab_type": "code",
        "outputId": "146b34d5-1fda-4b87-d7c1-31915ac10947",
        "colab": {
          "base_uri": "https://localhost:8080/",
          "height": 34
        }
      },
      "source": [
        "Question['Body'].iloc[2]"
      ],
      "execution_count": 0,
      "outputs": [
        {
          "output_type": "execute_result",
          "data": {
            "text/plain": [
              "'This something I pseudo-solved many time never quite find solution That stick The problem come way generate N color distinguishable possible N parameter'"
            ]
          },
          "metadata": {
            "tags": []
          },
          "execution_count": 61
        }
      ]
    },
    {
      "cell_type": "code",
      "metadata": {
        "id": "J9xYHNNDyY0Z",
        "colab_type": "code",
        "colab": {}
      },
      "source": [
        "Question['Title_Body']=Question['Title']+' '+ Question['Body']"
      ],
      "execution_count": 0,
      "outputs": []
    },
    {
      "cell_type": "code",
      "metadata": {
        "id": "mNPVIX-aygJX",
        "colab_type": "code",
        "outputId": "c2fc343a-2ddd-411c-b486-fb90a1031179",
        "colab": {
          "base_uri": "https://localhost:8080/",
          "height": 54
        }
      },
      "source": [
        "Question.iloc[3,3]"
      ],
      "execution_count": 0,
      "outputs": [
        {
          "output_type": "execute_result",
          "data": {
            "text/plain": [
              "'Adding script functionality NET applications I little game write C It use database back-end It trade card game I want implement function card script What I mean I essentially interface ICard card class implement public class Card056 ICard contain function call game Now make thing maintainablemoddable I would like class card source code database essentially compile first use So I addchange card I add database tell application refresh without need assembly deployment especially since would talk 1 assembly per card mean hundreds assemblies Is possible Register class source file instantiate etc ICard Cards current new MyGameCardLibraryCard056 Cards current OnEnterPlay ref currentGameState The language C extra bonus possible write script NET language'"
            ]
          },
          "metadata": {
            "tags": []
          },
          "execution_count": 63
        }
      ]
    },
    {
      "cell_type": "code",
      "metadata": {
        "id": "QNdP4N_hyjgy",
        "colab_type": "code",
        "outputId": "63cb547f-c12e-499e-e570-28b5bea13901",
        "colab": {
          "base_uri": "https://localhost:8080/",
          "height": 34
        }
      },
      "source": [
        "from sklearn.preprocessing import MultiLabelBinarizer\n",
        "tag_encoder = MultiLabelBinarizer()\n",
        "tags_encoded = tag_encoder.fit_transform(Question['Tags'])\n",
        "\n",
        "tags_encoded.shape"
      ],
      "execution_count": 0,
      "outputs": [
        {
          "output_type": "execute_result",
          "data": {
            "text/plain": [
              "(63167, 100)"
            ]
          },
          "metadata": {
            "tags": []
          },
          "execution_count": 64
        }
      ]
    },
    {
      "cell_type": "code",
      "metadata": {
        "id": "oU4WHrfp2gMx",
        "colab_type": "code",
        "colab": {}
      },
      "source": [
        "from sklearn.model_selection import train_test_split\n",
        "X_train, X_test, y_train, y_test = train_test_split(Question['Title_Body'], tags_encoded, test_size=0.2, random_state=42)"
      ],
      "execution_count": 0,
      "outputs": []
    },
    {
      "cell_type": "code",
      "metadata": {
        "id": "Et1Cu_5-2vsQ",
        "colab_type": "code",
        "outputId": "ed198188-de6e-4c7b-c778-5bf560d5d374",
        "colab": {
          "base_uri": "https://localhost:8080/",
          "height": 34
        }
      },
      "source": [
        "from keras.layers import LSTM, Activation, Dense, Dropout, Input, Embedding\n",
        "from keras.models import Model\n",
        "from keras.preprocessing.text import Tokenizer\n",
        "from keras.preprocessing import sequence\n",
        "from nltk import word_tokenize"
      ],
      "execution_count": 0,
      "outputs": [
        {
          "output_type": "stream",
          "text": [
            "Using TensorFlow backend.\n"
          ],
          "name": "stderr"
        }
      ]
    },
    {
      "cell_type": "code",
      "metadata": {
        "id": "kbs7oCqX266M",
        "colab_type": "code",
        "colab": {}
      },
      "source": [
        "sent_lens=[]\n",
        "for sent in X_train:\n",
        "    sent_lens.append(len(word_tokenize(sent)))"
      ],
      "execution_count": 0,
      "outputs": []
    },
    {
      "cell_type": "code",
      "metadata": {
        "id": "vhS3YT0l3ZNY",
        "colab_type": "code",
        "outputId": "2d4d51e1-6b3b-4a0e-8da0-46da15dbb08e",
        "colab": {
          "base_uri": "https://localhost:8080/",
          "height": 34
        }
      },
      "source": [
        "max(sent_lens)"
      ],
      "execution_count": 0,
      "outputs": [
        {
          "output_type": "execute_result",
          "data": {
            "text/plain": [
              "3370"
            ]
          },
          "metadata": {
            "tags": []
          },
          "execution_count": 68
        }
      ]
    },
    {
      "cell_type": "code",
      "metadata": {
        "id": "OYq1o9FB6Brw",
        "colab_type": "code",
        "outputId": "19bf52b5-2e50-40c9-eb0b-58e041de9bc7",
        "colab": {
          "base_uri": "https://localhost:8080/",
          "height": 34
        }
      },
      "source": [
        "np.quantile(sent_lens,0.95)"
      ],
      "execution_count": 0,
      "outputs": [
        {
          "output_type": "execute_result",
          "data": {
            "text/plain": [
              "306.0"
            ]
          },
          "metadata": {
            "tags": []
          },
          "execution_count": 69
        }
      ]
    },
    {
      "cell_type": "code",
      "metadata": {
        "id": "rWJQYeBYQvpz",
        "colab_type": "code",
        "outputId": "00926d0d-b6f0-4bfa-c8bd-c996db1380a9",
        "colab": {
          "base_uri": "https://localhost:8080/",
          "height": 34
        }
      },
      "source": [
        "# Word2Vec\n",
        "import gensim\n",
        "\n",
        "# WORD2VEC \n",
        "W2V_SIZE = 300\n",
        "W2V_WINDOW = 7\n",
        "W2V_EPOCH = 32\n",
        "W2V_MIN_COUNT = 10\n",
        "\n",
        "# Collect corpus for training word embeddings\n",
        "documents = [_text.split() for _text in np.array(Question['Title_Body'])]  # I used the entire corpus for training, because it contains the entire conversation of related to a user's posts\n",
        "\n",
        "\n",
        "# Train Word Embeddings and save\n",
        "w2v_model = gensim.models.word2vec.Word2Vec(size=W2V_SIZE, \n",
        "                                            window=W2V_WINDOW, \n",
        "                                            min_count=W2V_MIN_COUNT, \n",
        "                                            workers=8)\n",
        "w2v_model.build_vocab(documents)\n",
        "words = w2v_model.wv.vocab.keys()\n",
        "vocab_size = len(words)\n",
        "print(\"Vocab size\", vocab_size)\n",
        "# Train Word Embeddings\n",
        "w2v_model.train(documents, total_examples=len(documents), epochs=W2V_EPOCH)\n",
        "w2v_model.save('SO_word2vec_embeddings.bin')"
      ],
      "execution_count": 0,
      "outputs": [
        {
          "output_type": "stream",
          "text": [
            "Vocab size 29278\n"
          ],
          "name": "stdout"
        }
      ]
    },
    {
      "cell_type": "code",
      "metadata": {
        "id": "5evN4Q4iSi9k",
        "colab_type": "code",
        "colab": {}
      },
      "source": [
        "from keras.preprocessing.text import Tokenizer\n",
        "from keras.preprocessing.sequence import pad_sequences"
      ],
      "execution_count": 0,
      "outputs": []
    },
    {
      "cell_type": "code",
      "metadata": {
        "id": "UDMSkqZ5TWGS",
        "colab_type": "code",
        "outputId": "7bc696ba-9f25-4d2a-ab62-6c0ab6325a82",
        "colab": {
          "base_uri": "https://localhost:8080/",
          "height": 51
        }
      },
      "source": [
        "MAX_SEQUENCE_LENGTH = 300\n",
        "# This is fixed.\n",
        "EMBEDDING_DIM = 300\n",
        "\n",
        "tokenizer = Tokenizer()\n",
        "tokenizer.fit_on_texts(Question['Title_Body'])\n",
        "word_index = tokenizer.word_index\n",
        "vocab_size = len(word_index)\n",
        "print('Found %s unique tokens.' % len(word_index))\n",
        "\n",
        "\n",
        "# Convert the data to padded sequences\n",
        "X_train_padded = tokenizer.texts_to_sequences(X_train)\n",
        "X_train_padded = pad_sequences(X_train_padded, maxlen=MAX_SEQUENCE_LENGTH)\n",
        "\n",
        "\n",
        "# Embedding matrix for the embedding layer\n",
        "embedding_matrix = np.zeros((vocab_size+1, W2V_SIZE))\n",
        "for word, i in tokenizer.word_index.items():\n",
        "    if word in w2v_model.wv:\n",
        "        embedding_matrix[i] = w2v_model.wv[word]\n",
        "print(embedding_matrix.shape)"
      ],
      "execution_count": 0,
      "outputs": [
        {
          "output_type": "stream",
          "text": [
            "Found 375146 unique tokens.\n",
            "(375147, 300)\n"
          ],
          "name": "stdout"
        }
      ]
    },
    {
      "cell_type": "code",
      "metadata": {
        "id": "4FznvLka65qu",
        "colab_type": "code",
        "outputId": "ff675c44-b2b8-4aba-bcc9-053148f5d2fa",
        "colab": {
          "base_uri": "https://localhost:8080/",
          "height": 1000
        }
      },
      "source": [
        "def RNN():\n",
        "    inputs = Input(name='inputs',shape=[MAX_SEQUENCE_LENGTH])\n",
        "    layer = Embedding(vocab_size+1, W2V_SIZE, weights=[embedding_matrix], input_length=MAX_SEQUENCE_LENGTH, trainable=False)(inputs)\n",
        "    layer = LSTM(100)(layer)\n",
        "    layer = Dense(1000,name='FC1')(layer)\n",
        "    layer = Activation('relu')(layer)\n",
        "    layer = Dropout(0.35)(layer)\n",
        "    layer = Dense(700,name='FC2')(layer)\n",
        "    layer = Activation('relu')(layer)\n",
        "    layer = Dropout(0.25)(layer)\n",
        "    layer = Dense(400,name='FC3')(layer)\n",
        "    layer = Activation('relu')(layer)\n",
        "    layer = Dropout(0.5)(layer)\n",
        "    layer = Dense(100,name='out_layer')(layer)\n",
        "    layer = Activation('softmax')(layer)\n",
        "    model = Model(inputs=inputs,outputs=layer)\n",
        "    return model\n",
        "  \n",
        "  \n",
        "model = RNN()\n",
        "model.compile(optimizer='adam', loss='binary_crossentropy', metrics=['accuracy'])\n",
        "model.summary()\n"
      ],
      "execution_count": 0,
      "outputs": [
        {
          "output_type": "stream",
          "text": [
            "WARNING:tensorflow:From /usr/local/lib/python3.6/dist-packages/keras/backend/tensorflow_backend.py:541: The name tf.placeholder is deprecated. Please use tf.compat.v1.placeholder instead.\n",
            "\n",
            "WARNING:tensorflow:From /usr/local/lib/python3.6/dist-packages/keras/backend/tensorflow_backend.py:66: The name tf.get_default_graph is deprecated. Please use tf.compat.v1.get_default_graph instead.\n",
            "\n",
            "WARNING:tensorflow:From /usr/local/lib/python3.6/dist-packages/keras/backend/tensorflow_backend.py:4432: The name tf.random_uniform is deprecated. Please use tf.random.uniform instead.\n",
            "\n",
            "WARNING:tensorflow:From /usr/local/lib/python3.6/dist-packages/keras/backend/tensorflow_backend.py:190: The name tf.get_default_session is deprecated. Please use tf.compat.v1.get_default_session instead.\n",
            "\n",
            "WARNING:tensorflow:From /usr/local/lib/python3.6/dist-packages/keras/backend/tensorflow_backend.py:197: The name tf.ConfigProto is deprecated. Please use tf.compat.v1.ConfigProto instead.\n",
            "\n",
            "WARNING:tensorflow:From /usr/local/lib/python3.6/dist-packages/keras/backend/tensorflow_backend.py:203: The name tf.Session is deprecated. Please use tf.compat.v1.Session instead.\n",
            "\n",
            "WARNING:tensorflow:From /usr/local/lib/python3.6/dist-packages/keras/backend/tensorflow_backend.py:207: The name tf.global_variables is deprecated. Please use tf.compat.v1.global_variables instead.\n",
            "\n",
            "WARNING:tensorflow:From /usr/local/lib/python3.6/dist-packages/keras/backend/tensorflow_backend.py:216: The name tf.is_variable_initialized is deprecated. Please use tf.compat.v1.is_variable_initialized instead.\n",
            "\n",
            "WARNING:tensorflow:From /usr/local/lib/python3.6/dist-packages/keras/backend/tensorflow_backend.py:223: The name tf.variables_initializer is deprecated. Please use tf.compat.v1.variables_initializer instead.\n",
            "\n",
            "WARNING:tensorflow:From /usr/local/lib/python3.6/dist-packages/keras/backend/tensorflow_backend.py:148: The name tf.placeholder_with_default is deprecated. Please use tf.compat.v1.placeholder_with_default instead.\n",
            "\n",
            "WARNING:tensorflow:From /usr/local/lib/python3.6/dist-packages/keras/backend/tensorflow_backend.py:3733: calling dropout (from tensorflow.python.ops.nn_ops) with keep_prob is deprecated and will be removed in a future version.\n",
            "Instructions for updating:\n",
            "Please use `rate` instead of `keep_prob`. Rate should be set to `rate = 1 - keep_prob`.\n",
            "WARNING:tensorflow:From /usr/local/lib/python3.6/dist-packages/keras/optimizers.py:793: The name tf.train.Optimizer is deprecated. Please use tf.compat.v1.train.Optimizer instead.\n",
            "\n",
            "WARNING:tensorflow:From /usr/local/lib/python3.6/dist-packages/keras/backend/tensorflow_backend.py:3657: The name tf.log is deprecated. Please use tf.math.log instead.\n",
            "\n",
            "WARNING:tensorflow:From /usr/local/lib/python3.6/dist-packages/tensorflow_core/python/ops/nn_impl.py:183: where (from tensorflow.python.ops.array_ops) is deprecated and will be removed in a future version.\n",
            "Instructions for updating:\n",
            "Use tf.where in 2.0, which has the same broadcast rule as np.where\n",
            "Model: \"model_1\"\n",
            "_________________________________________________________________\n",
            "Layer (type)                 Output Shape              Param #   \n",
            "=================================================================\n",
            "inputs (InputLayer)          (None, 300)               0         \n",
            "_________________________________________________________________\n",
            "embedding_1 (Embedding)      (None, 300, 300)          112544100 \n",
            "_________________________________________________________________\n",
            "lstm_1 (LSTM)                (None, 100)               160400    \n",
            "_________________________________________________________________\n",
            "FC1 (Dense)                  (None, 1000)              101000    \n",
            "_________________________________________________________________\n",
            "activation_1 (Activation)    (None, 1000)              0         \n",
            "_________________________________________________________________\n",
            "dropout_1 (Dropout)          (None, 1000)              0         \n",
            "_________________________________________________________________\n",
            "FC2 (Dense)                  (None, 700)               700700    \n",
            "_________________________________________________________________\n",
            "activation_2 (Activation)    (None, 700)               0         \n",
            "_________________________________________________________________\n",
            "dropout_2 (Dropout)          (None, 700)               0         \n",
            "_________________________________________________________________\n",
            "FC3 (Dense)                  (None, 400)               280400    \n",
            "_________________________________________________________________\n",
            "activation_3 (Activation)    (None, 400)               0         \n",
            "_________________________________________________________________\n",
            "dropout_3 (Dropout)          (None, 400)               0         \n",
            "_________________________________________________________________\n",
            "out_layer (Dense)            (None, 100)               40100     \n",
            "_________________________________________________________________\n",
            "activation_4 (Activation)    (None, 100)               0         \n",
            "=================================================================\n",
            "Total params: 113,826,700\n",
            "Trainable params: 1,282,600\n",
            "Non-trainable params: 112,544,100\n",
            "_________________________________________________________________\n"
          ],
          "name": "stdout"
        }
      ]
    },
    {
      "cell_type": "code",
      "metadata": {
        "id": "GY0GYLL3fr2b",
        "colab_type": "code",
        "colab": {}
      },
      "source": [
        ""
      ],
      "execution_count": 0,
      "outputs": []
    },
    {
      "cell_type": "code",
      "metadata": {
        "id": "aIAerFxDSfSS",
        "colab_type": "code",
        "colab": {}
      },
      "source": [
        "X_test_padded = tokenizer.texts_to_sequences(X_test)\n",
        "X_test_padded = pad_sequences(X_test_padded, maxlen=MAX_SEQUENCE_LENGTH)"
      ],
      "execution_count": 0,
      "outputs": []
    },
    {
      "cell_type": "code",
      "metadata": {
        "id": "blyflhTK_K_W",
        "colab_type": "code",
        "outputId": "807ced9b-1dd9-4d55-eae0-c42088dc722f",
        "colab": {
          "base_uri": "https://localhost:8080/",
          "height": 496
        }
      },
      "source": [
        "model.fit(X_train_padded,y_train,batch_size=1024,epochs=15,validation_data=(X_test_padded,y_test))"
      ],
      "execution_count": 0,
      "outputs": [
        {
          "output_type": "stream",
          "text": [
            "WARNING:tensorflow:From /usr/local/lib/python3.6/dist-packages/keras/backend/tensorflow_backend.py:1033: The name tf.assign_add is deprecated. Please use tf.compat.v1.assign_add instead.\n",
            "\n",
            "WARNING:tensorflow:From /usr/local/lib/python3.6/dist-packages/keras/backend/tensorflow_backend.py:1020: The name tf.assign is deprecated. Please use tf.compat.v1.assign instead.\n",
            "\n",
            "Train on 50533 samples, validate on 12634 samples\n",
            "Epoch 1/15\n",
            "50533/50533 [==============================] - 487s 10ms/step - loss: 0.0737 - acc: 0.9843 - val_loss: 0.0656 - val_acc: 0.9843\n",
            "Epoch 2/15\n",
            "50533/50533 [==============================] - 496s 10ms/step - loss: 0.0599 - acc: 0.9848 - val_loss: 0.0525 - val_acc: 0.9856\n",
            "Epoch 3/15\n",
            "50533/50533 [==============================] - 491s 10ms/step - loss: 0.0500 - acc: 0.9859 - val_loss: 0.0455 - val_acc: 0.9862\n",
            "Epoch 4/15\n",
            "50533/50533 [==============================] - 492s 10ms/step - loss: 0.0444 - acc: 0.9866 - val_loss: 0.0412 - val_acc: 0.9870\n",
            "Epoch 5/15\n",
            "50533/50533 [==============================] - 487s 10ms/step - loss: 0.0406 - acc: 0.9873 - val_loss: 0.0385 - val_acc: 0.9878\n",
            "Epoch 6/15\n",
            "50533/50533 [==============================] - 490s 10ms/step - loss: 0.0380 - acc: 0.9879 - val_loss: 0.0372 - val_acc: 0.9882\n",
            "Epoch 7/15\n",
            "50533/50533 [==============================] - 490s 10ms/step - loss: 0.0361 - acc: 0.9883 - val_loss: 0.0361 - val_acc: 0.9884\n",
            "Epoch 8/15\n",
            "50533/50533 [==============================] - 496s 10ms/step - loss: 0.0346 - acc: 0.9886 - val_loss: 0.0354 - val_acc: 0.9888\n",
            "Epoch 9/15\n",
            "50533/50533 [==============================] - 488s 10ms/step - loss: 0.0334 - acc: 0.9888 - val_loss: 0.0350 - val_acc: 0.9888\n",
            "Epoch 10/15\n",
            "50533/50533 [==============================] - 482s 10ms/step - loss: 0.0324 - acc: 0.9890 - val_loss: 0.0347 - val_acc: 0.9890\n",
            "Epoch 11/15\n",
            "37888/50533 [=====================>........] - ETA: 1:50 - loss: 0.0315 - acc: 0.9891"
          ],
          "name": "stdout"
        }
      ]
    },
    {
      "cell_type": "code",
      "metadata": {
        "id": "HsXffSptUVml",
        "colab_type": "code",
        "colab": {}
      },
      "source": [
        "predictions=model.predict(X_test_padded)"
      ],
      "execution_count": 0,
      "outputs": []
    },
    {
      "cell_type": "code",
      "metadata": {
        "id": "3wtYCJM_UWqo",
        "colab_type": "code",
        "colab": {}
      },
      "source": [
        "from sklearn.metrics import roc_auc_score"
      ],
      "execution_count": 0,
      "outputs": []
    },
    {
      "cell_type": "code",
      "metadata": {
        "id": "rCuPuzC4UZM_",
        "colab_type": "code",
        "colab": {}
      },
      "source": [
        "roc_auc_score(y_test,predictions)"
      ],
      "execution_count": 0,
      "outputs": []
    },
    {
      "cell_type": "code",
      "metadata": {
        "id": "S9ReLtInUbc1",
        "colab_type": "code",
        "colab": {}
      },
      "source": [
        "def predict_tags(text):\n",
        "    # Tokenize text\n",
        "    x_test = pad_sequences(tokenizer.texts_to_sequences([text]), maxlen=MAX_SEQUENCE_LENGTH)\n",
        "    # Predict\n",
        "    prediction = model.predict([x_test])[0]\n",
        "    for i,value in enumerate(prediction):\n",
        "        if value > 0.5:\n",
        "            prediction[i] = 1\n",
        "        else:\n",
        "            prediction[i] = 0\n",
        "    tags = tag_encoder.inverse_transform(np.array([prediction]))\n",
        "    return tags"
      ],
      "execution_count": 0,
      "outputs": []
    },
    {
      "cell_type": "code",
      "metadata": {
        "id": "i39ycRXqUgJo",
        "colab_type": "code",
        "colab": {}
      },
      "source": [
        "predict_tags('If NoClassDefFoundError cause ClassNotFoundException Java expect catch throwables When I run code app exit ClassNotFoundException uncaught ClassNotFoundException try Class clazz defineClass null bytes 0 byteslength null tableput clazzgetName clazz catch NoClassDefFoundError e When I attempt compile code compiler complain ClassNotFoundException reachable throw within try-clause try-catch statement Won compile try Class clazz defineClass null bytes 0 byteslength null tableput clazzgetName clazz catch ClassNotFoundException e When I run code throwable catch NoClassDefFoundError catch throwable type javalangNoClassDefFoundError javalangClassNotFoundException cause try Class clazz defineClass null bytes 0 byteslength null tableput clazzgetName clazz catch Throwable e Systemoutprintln egetClass getName Systemoutprintln egetCause getClass getName The follow code compile catch error error clumsy possible workaround try Class clazz defineClass null bytes 0 byteslength null tableput clazzgetName clazz 1 0 throw new ClassNotFoundException want code compile catch ClassNotFoundException e Systemoutprintln \" ex \" catch NoClassDefFoundError e Systemoutprintln \" err \" And yet I write follow I get away without catch clause cause error yet work fine try throw new Error new IOException catch Error e Systemoutprintln \" err \" Example 3 would lead conclude throwable NoClassDefFoundError Example 1 would lead conclude throwable ClassNotFoundException And yet Example 2 show java win even let write code properly catch ClassNotFoundException Just I conclude problem error-caused-by-an-exception I run code show previous example show rule Can someone please explain go PS stack trace javalangNoClassDefFoundError commypckageMyClass javalangClassLoaderdefineClass1 Native Method javalangClassLoaderdefineClass ClassLoaderjava 791 Main MyClassLoadergetClasses Mainjava 78 Mainmain Mainjava 109 Caused javalangClassNotFoundException commypckageMyClass javalangClassLoaderfindClass ClassLoaderjava 522 javalangClassLoaderloadClass ClassLoaderjava 423 javalangClassLoaderloadClass ClassLoaderjava 356 4')"
      ],
      "execution_count": 0,
      "outputs": []
    },
    {
      "cell_type": "code",
      "metadata": {
        "id": "GawpYEaUUmYD",
        "colab_type": "code",
        "colab": {}
      },
      "source": [
        "X_test=X_test.reset_index()"
      ],
      "execution_count": 0,
      "outputs": []
    },
    {
      "cell_type": "code",
      "metadata": {
        "id": "uYMGnWbBUuyJ",
        "colab_type": "code",
        "colab": {}
      },
      "source": [
        "X_test.iloc[10,1]"
      ],
      "execution_count": 0,
      "outputs": []
    },
    {
      "cell_type": "code",
      "metadata": {
        "id": "twzmgfQ8UysA",
        "colab_type": "code",
        "colab": {}
      },
      "source": [
        "Question.loc[Question['Title_Body']=='If NoClassDefFoundError cause ClassNotFoundException Java expect catch throwables When I run code app exit ClassNotFoundException uncaught ClassNotFoundException try Class clazz defineClass null bytes 0 byteslength null tableput clazzgetName clazz catch NoClassDefFoundError e When I attempt compile code compiler complain ClassNotFoundException reachable throw within try-clause try-catch statement Won compile try Class clazz defineClass null bytes 0 byteslength null tableput clazzgetName clazz catch ClassNotFoundException e When I run code throwable catch NoClassDefFoundError catch throwable type javalangNoClassDefFoundError javalangClassNotFoundException cause try Class clazz defineClass null bytes 0 byteslength null tableput clazzgetName clazz catch Throwable e Systemoutprintln egetClass getName Systemoutprintln egetCause getClass getName The follow code compile catch error error clumsy possible workaround try Class clazz defineClass null bytes 0 byteslength null tableput clazzgetName clazz 1 0 throw new ClassNotFoundException want code compile catch ClassNotFoundException e Systemoutprintln \" ex \" catch NoClassDefFoundError e Systemoutprintln \" err \" And yet I write follow I get away without catch clause cause error yet work fine try throw new Error new IOException catch Error e Systemoutprintln \" err \" Example 3 would lead conclude throwable NoClassDefFoundError Example 1 would lead conclude throwable ClassNotFoundException And yet Example 2 show java win even let write code properly catch ClassNotFoundException Just I conclude problem error-caused-by-an-exception I run code show previous example show rule Can someone please explain go PS stack trace javalangNoClassDefFoundError commypckageMyClass javalangClassLoaderdefineClass1 Native Method javalangClassLoaderdefineClass ClassLoaderjava 791 Main MyClassLoadergetClasses Mainjava 78 Mainmain Mainjava 109 Caused javalangClassNotFoundException commypckageMyClass javalangClassLoaderfindClass ClassLoaderjava 522 javalangClassLoaderloadClass ClassLoaderjava 423 javalangClassLoaderloadClass ClassLoaderjava 356 4']"
      ],
      "execution_count": 0,
      "outputs": []
    },
    {
      "cell_type": "code",
      "metadata": {
        "id": "bZKExZ5sU1qe",
        "colab_type": "code",
        "colab": {}
      },
      "source": [
        ""
      ],
      "execution_count": 0,
      "outputs": []
    }
  ]
}